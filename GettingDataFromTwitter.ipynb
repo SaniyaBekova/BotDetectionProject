{
 "cells": [
  {
   "cell_type": "code",
   "execution_count": 20,
   "metadata": {},
   "outputs": [
    {
     "name": "stdout",
     "output_type": "stream",
     "text": [
      "Data saved to data/twitter_tweets.json\n"
     ]
    }
   ],
   "source": [
    "import requests\n",
    "import json\n",
    "import time\n",
    "\n",
    "# Twitter API Bearer Token (Replace with your actual token)\n",
    "BEARER_TOKEN = \"AAAAAAAAAAAAAAAAAAAAAJIvzgEAAAAAc%2FTyPBGuT%2BeXxuGYOVMPx3%2BuzsE%3DEsZMwD2FnDMrOfPsy1eJVya5D4CL9WvcWFP4m0l4L7tghT5WAm\"\n",
    "\n",
    "# Function to get recent tweets by keyword\n",
    "def get_recent_tweets(query, max_results=10, max_retries=5):\n",
    "    url = f\"https://api.twitter.com/2/tweets/search/recent?query={query}&max_results={max_results}\"\n",
    "    headers = {\"Authorization\": f\"Bearer {BEARER_TOKEN}\"}\n",
    "\n",
    "    for attempt in range(max_retries):\n",
    "        try:\n",
    "            response = requests.get(url, headers=headers, timeout=10)\n",
    "            if response.status_code == 200:\n",
    "                return response.json().get(\"data\", [])\n",
    "            elif response.status_code == 429:  # Too Many Requests (Rate Limited)\n",
    "                print(\"Rate limited. Waiting 60 seconds before retrying...\")\n",
    "                time.sleep(60)\n",
    "            else:\n",
    "                print(f\"Error {response.status_code}: {response.json()}\")\n",
    "                return []\n",
    "        except requests.exceptions.RequestException as e:\n",
    "            print(f\"Network error: {e}. Retrying in 5 seconds...\")\n",
    "            time.sleep(5)\n",
    "    return []\n",
    "\n",
    "# Main function to get tweets and their replies\n",
    "def main():\n",
    "    query = \"Trump\"  # Search keyword\n",
    "    max_tweets = 10  # Number of tweets to fetch\n",
    "\n",
    "    # Get recent tweets\n",
    "    tweets = get_recent_tweets(query, max_tweets)\n",
    "    # Save data to a JSON file\n",
    "    file_path = \"data/twitter_tweets.json\"\n",
    "    with open(file_path, \"w\", encoding=\"utf-8\") as file:\n",
    "        json.dump(tweets, file, ensure_ascii=False, indent=4)\n",
    "\n",
    "    print(f\"Data saved to {file_path}\")\n",
    "\n",
    "# Run the script\n",
    "main()\n"
   ]
  }
 ],
 "metadata": {
  "kernelspec": {
   "display_name": "base",
   "language": "python",
   "name": "python3"
  },
  "language_info": {
   "codemirror_mode": {
    "name": "ipython",
    "version": 3
   },
   "file_extension": ".py",
   "mimetype": "text/x-python",
   "name": "python",
   "nbconvert_exporter": "python",
   "pygments_lexer": "ipython3",
   "version": "3.12.4"
  }
 },
 "nbformat": 4,
 "nbformat_minor": 2
}
