{
 "cells": [
  {
   "cell_type": "code",
   "execution_count": 12,
   "metadata": {},
   "outputs": [
    {
     "name": "stdout",
     "output_type": "stream",
     "text": [
      "Rate limited. Waiting 60 seconds before retrying...\n"
     ]
    },
    {
     "ename": "KeyboardInterrupt",
     "evalue": "",
     "output_type": "error",
     "traceback": [
      "\u001b[0;31m---------------------------------------------------------------------------\u001b[0m",
      "\u001b[0;31mKeyboardInterrupt\u001b[0m                         Traceback (most recent call last)",
      "Cell \u001b[0;32mIn[12], line 44\u001b[0m\n\u001b[1;32m     41\u001b[0m     \u001b[38;5;28mprint\u001b[39m(\u001b[38;5;124mf\u001b[39m\u001b[38;5;124m\"\u001b[39m\u001b[38;5;124mData saved to \u001b[39m\u001b[38;5;132;01m{\u001b[39;00mfile_path\u001b[38;5;132;01m}\u001b[39;00m\u001b[38;5;124m\"\u001b[39m)\n\u001b[1;32m     43\u001b[0m \u001b[38;5;66;03m# Run the script\u001b[39;00m\n\u001b[0;32m---> 44\u001b[0m \u001b[43mmain\u001b[49m\u001b[43m(\u001b[49m\u001b[43m)\u001b[49m\n",
      "Cell \u001b[0;32mIn[12], line 35\u001b[0m, in \u001b[0;36mmain\u001b[0;34m()\u001b[0m\n\u001b[1;32m     32\u001b[0m max_tweets \u001b[38;5;241m=\u001b[39m \u001b[38;5;241m3\u001b[39m  \u001b[38;5;66;03m# Number of tweets to fetch\u001b[39;00m\n\u001b[1;32m     34\u001b[0m \u001b[38;5;66;03m# Get recent tweets\u001b[39;00m\n\u001b[0;32m---> 35\u001b[0m tweets \u001b[38;5;241m=\u001b[39m \u001b[43mget_recent_tweets\u001b[49m\u001b[43m(\u001b[49m\u001b[43mquery\u001b[49m\u001b[43m,\u001b[49m\u001b[43m \u001b[49m\u001b[43mmax_tweets\u001b[49m\u001b[43m)\u001b[49m\n\u001b[1;32m     36\u001b[0m \u001b[38;5;66;03m# Save data to a JSON file\u001b[39;00m\n\u001b[1;32m     37\u001b[0m file_path \u001b[38;5;241m=\u001b[39m \u001b[38;5;124m\"\u001b[39m\u001b[38;5;124mdata/twitter_tweets.json\u001b[39m\u001b[38;5;124m\"\u001b[39m\n",
      "Cell \u001b[0;32mIn[12], line 20\u001b[0m, in \u001b[0;36mget_recent_tweets\u001b[0;34m(query, max_results, max_retries)\u001b[0m\n\u001b[1;32m     18\u001b[0m \u001b[38;5;28;01melif\u001b[39;00m response\u001b[38;5;241m.\u001b[39mstatus_code \u001b[38;5;241m==\u001b[39m \u001b[38;5;241m429\u001b[39m:  \u001b[38;5;66;03m# Too Many Requests (Rate Limited)\u001b[39;00m\n\u001b[1;32m     19\u001b[0m     \u001b[38;5;28mprint\u001b[39m(\u001b[38;5;124m\"\u001b[39m\u001b[38;5;124mRate limited. Waiting 60 seconds before retrying...\u001b[39m\u001b[38;5;124m\"\u001b[39m)\n\u001b[0;32m---> 20\u001b[0m     \u001b[43mtime\u001b[49m\u001b[38;5;241;43m.\u001b[39;49m\u001b[43msleep\u001b[49m\u001b[43m(\u001b[49m\u001b[38;5;241;43m60\u001b[39;49m\u001b[43m)\u001b[49m\n\u001b[1;32m     21\u001b[0m \u001b[38;5;28;01melse\u001b[39;00m:\n\u001b[1;32m     22\u001b[0m     \u001b[38;5;28mprint\u001b[39m(\u001b[38;5;124mf\u001b[39m\u001b[38;5;124m\"\u001b[39m\u001b[38;5;124mError \u001b[39m\u001b[38;5;132;01m{\u001b[39;00mresponse\u001b[38;5;241m.\u001b[39mstatus_code\u001b[38;5;132;01m}\u001b[39;00m\u001b[38;5;124m: \u001b[39m\u001b[38;5;132;01m{\u001b[39;00mresponse\u001b[38;5;241m.\u001b[39mjson()\u001b[38;5;132;01m}\u001b[39;00m\u001b[38;5;124m\"\u001b[39m)\n",
      "\u001b[0;31mKeyboardInterrupt\u001b[0m: "
     ]
    }
   ],
   "source": [
    "import requests\n",
    "import json\n",
    "import time\n",
    "\n",
    "# Twitter API Bearer Token (Replace with your actual token)\n",
    "BEARER_TOKEN = \"AAAAAAAAAAAAAAAAAAAAAJIvzgEAAAAAc%2FTyPBGuT%2BeXxuGYOVMPx3%2BuzsE%3DEsZMwD2FnDMrOfPsy1eJVya5D4CL9WvcWFP4m0l4L7tghT5WAm\"\n",
    "\n",
    "# Function to get recent tweets by keyword\n",
    "def get_recent_tweets(query, max_results=10, max_retries=5):\n",
    "    url = f\"https://api.twitter.com/2/tweets/search/recent?query={query}&max_results={max_results}\"\n",
    "    headers = {\"Authorization\": f\"Bearer {BEARER_TOKEN}\"}\n",
    "\n",
    "    for attempt in range(max_retries):\n",
    "        try:\n",
    "            response = requests.get(url, headers=headers, timeout=10)\n",
    "            if response.status_code == 200:\n",
    "                return response.json().get(\"data\", [])\n",
    "            elif response.status_code == 429:  # Too Many Requests (Rate Limited)\n",
    "                print(\"Rate limited. Waiting 60 seconds before retrying...\")\n",
    "                time.sleep(60)\n",
    "            else:\n",
    "                print(f\"Error {response.status_code}: {response.json()}\")\n",
    "                return []\n",
    "        except requests.exceptions.RequestException as e:\n",
    "            print(f\"Network error: {e}. Retrying in 5 seconds...\")\n",
    "            time.sleep(5)\n",
    "    return []\n",
    "\n",
    "# Main function to get tweets and their replies\n",
    "def main():\n",
    "    query = \"Токаев\"  # Search keyword\n",
    "    max_tweets = 3  # Number of tweets to fetch\n",
    "\n",
    "    # Get recent tweets\n",
    "    tweets = get_recent_tweets(query, max_tweets)\n",
    "    # Save data to a JSON file\n",
    "    file_path = \"data/twitter_tweets.json\"\n",
    "    with open(file_path, \"w\", encoding=\"utf-8\") as file:\n",
    "        json.dump(tweets, file, ensure_ascii=False, indent=4)\n",
    "\n",
    "    print(f\"Data saved to {file_path}\")\n",
    "\n",
    "# Run the script\n",
    "main()\n"
   ]
  }
 ],
 "metadata": {
  "kernelspec": {
   "display_name": "base",
   "language": "python",
   "name": "python3"
  },
  "language_info": {
   "codemirror_mode": {
    "name": "ipython",
    "version": 3
   },
   "file_extension": ".py",
   "mimetype": "text/x-python",
   "name": "python",
   "nbconvert_exporter": "python",
   "pygments_lexer": "ipython3",
   "version": "3.12.4"
  }
 },
 "nbformat": 4,
 "nbformat_minor": 2
}
