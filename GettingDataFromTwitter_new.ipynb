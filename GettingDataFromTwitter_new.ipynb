{
  "cells": [
    {
      "cell_type": "markdown",
      "metadata": {
        "id": "KD73tRZYGa3l"
      },
      "source": [
        "## My research question and Corpus data"
      ]
    },
    {
      "cell_type": "markdown",
      "metadata": {
        "id": "gbV9OpfBGa3l"
      },
      "source": [
        "My research question is \"How can bots be identified in social media comments?\"\n",
        "\n",
        "My corpus is a list of comments from Twitter/X.\n",
        "\n",
        "I collected the first 100 comments from Donald Trump's recent tweet https://x.com/realDonaldTrump/status/1894126415932526802/photo/1 as well as got detailed information about comment authors. In addition, I got comments from the Russian media \"Meduza\" from the tweet https://x.com/meduzaproject/status/1894022390490837112\n",
        "\n",
        "Comments were collected by the endpoint: https://api.twitter.com/2/tweets/search/recent\n",
        "\n",
        "UsersInfo were collected by the endpoint: https://api.twitter.com/2/users?ids={batch_str}&user.fields=username,name,created_at,location,verified\n"
      ]
    },
    {
      "cell_type": "markdown",
      "metadata": {
        "id": "M6JqlZOMGa3l"
      },
      "source": [
        "Getting data through the Twitter API is very inconvenient if you use the free API. The available pull size for tweets and retweets is just 100 per month. My first try failed, and I reached my monthly limit. Collecting 160 retweets from 2 different tweets needed 3 different accounts from me.)))\n",
        "I downloaded the data using Python because it is easier for me than R.\n",
        "\n",
        "I still have no idea how I can detect bots and which techniques I will use. However, I found a good repository https://botometer.osome.iu.edu/bot-repository/datasets.html with different datasets, which I think will be helpful if I use supervised learning.\n"
      ]
    },
    {
      "cell_type": "code",
      "execution_count": null,
      "metadata": {
        "id": "QRa_68D2Ga3l"
      },
      "outputs": [],
      "source": [
        "import requests\n",
        "import json\n",
        "import time"
      ]
    },
    {
      "cell_type": "code",
      "execution_count": null,
      "metadata": {
        "id": "R9Vgd65UGa3m"
      },
      "outputs": [],
      "source": [
        "BEARER_TOKEN = \"\""
      ]
    },
    {
      "cell_type": "markdown",
      "metadata": {
        "id": "lmTGYNtGGa3m"
      },
      "source": [
        "## Getting tweet comments by conversation id"
      ]
    },
    {
      "cell_type": "code",
      "execution_count": null,
      "metadata": {
        "collapsed": true,
        "id": "6jztchUzGa3m",
        "outputId": "322c2c27-8550-4dfe-c7d0-502f871e3e84"
      },
      "outputs": [
        {
          "data": {
            "text/plain": [
              "'\\ntweet_replies = get_tweet_replies(TWEET_ID)\\n\\n\\nwith open(FILE_PATH, \"w\", encoding=\"utf-8\") as file:\\n    json.dump(tweet_replies, file, ensure_ascii=False, indent=4)\\n\\nprint(f\"Data saved to {FILE_PATH}\")\\n'"
            ]
          },
          "execution_count": 41,
          "metadata": {},
          "output_type": "execute_result"
        }
      ],
      "source": [
        "TWEET_ID = \"1894126415932526802\"\n",
        "FILE_PATH = f\"data/tweet_info_{TWEET_ID}.json\"\n",
        "\n",
        "def get_tweet_replies(tweet_id):\n",
        "    url = \"https://api.twitter.com/2/tweets/search/recent\"\n",
        "    headers = {\"Authorization\": f\"Bearer {BEARER_TOKEN}\"}\n",
        "\n",
        "    all_replies = []\n",
        "    next_token = None\n",
        "\n",
        "    while True:\n",
        "        params = {\n",
        "            \"query\": f\"conversation_id:{tweet_id}\",\n",
        "            \"tweet.fields\": \"author_id,created_at\",\n",
        "            \"expansions\": \"author_id\",\n",
        "            \"user.fields\": \"username\",\n",
        "            \"max_results\": 100,\n",
        "        }\n",
        "\n",
        "        if next_token:\n",
        "            params[\"next_token\"] = next_token\n",
        "\n",
        "        response = requests.get(url, headers=headers, params=params, timeout=10)\n",
        "\n",
        "        if response.status_code == 200:\n",
        "            data = response.json()\n",
        "            with open(FILE_PATH+\"_all\", \"w\", encoding=\"utf-8\") as file:\n",
        "                json.dump(data, file, ensure_ascii=False, indent=4)\n",
        "            all_replies.extend(data.get(\"data\", []))\n",
        "\n",
        "\n",
        "            next_token = data.get(\"meta\", {}).get(\"next_token\")\n",
        "            if not next_token:\n",
        "                break\n",
        "\n",
        "        else:\n",
        "            print(f\"Error {response.status_code}: {response.json()}\")\n",
        "            break\n",
        "\n",
        "    return all_replies\n",
        "\n",
        "'''\n",
        "tweet_replies = get_tweet_replies(TWEET_ID)\n",
        "\n",
        "\n",
        "with open(FILE_PATH, \"w\", encoding=\"utf-8\") as file:\n",
        "    json.dump(tweet_replies, file, ensure_ascii=False, indent=4)\n",
        "\n",
        "print(f\"Data saved to {FILE_PATH}\")\n",
        "'''"
      ]
    },
    {
      "cell_type": "markdown",
      "metadata": {
        "id": "raSLmZyvGa3m"
      },
      "source": [
        "## Get Users info by ID"
      ]
    },
    {
      "cell_type": "code",
      "execution_count": null,
      "metadata": {
        "collapsed": true,
        "id": "j4YA9iIdGa3m",
        "outputId": "c0d842d6-d69d-4745-b6fd-1c7e4c7e1d08"
      },
      "outputs": [
        {
          "name": "stdout",
          "output_type": "stream",
          "text": [
            "Total unique users: 84\n",
            "User data saved to data/user_info_1894126415932526802.json\n"
          ]
        }
      ],
      "source": [
        "\n",
        "FILE_PATH = f\"data/tweet_info_{TWEET_ID}.json\"\n",
        "FILE_PATH1 = f\"data/user_info_{TWEET_ID}.json\"\n",
        "BATCH_SIZE = 100\n",
        "SLEEP_TIME = 900\n",
        "\n",
        "with open(FILE_PATH, \"r\", encoding=\"utf-8\") as file:\n",
        "    data = json.load(file)\n",
        "\n",
        "\n",
        "users = list(set(tweet[\"author_id\"] for tweet in data))\n",
        "print(f\"Total unique users: {len(users)}\")\n",
        "\n",
        "\n",
        "def get_users_info(user_ids):\n",
        "    \"\"\"Fetches user information from Twitter in batches with 15-minute wait time.\"\"\"\n",
        "    all_users_info = []\n",
        "\n",
        "    for i in range(0, len(user_ids), BATCH_SIZE):\n",
        "        batch = user_ids[i : i + BATCH_SIZE]\n",
        "        batch_str = \",\".join(batch)\n",
        "\n",
        "        url = f\"https://api.twitter.com/2/users?ids={batch_str}&user.fields=username,name,created_at,location,verified\"\n",
        "        headers = {\"Authorization\": f\"Bearer {BEARER_TOKEN}\"}\n",
        "\n",
        "        response = requests.get(url, headers=headers)\n",
        "\n",
        "        if response.status_code == 200:\n",
        "            with open(FILE_PATH1+\"_all\", \"w\", encoding=\"utf-8\") as file:\n",
        "                json.dump(response.json(), file, ensure_ascii=False, indent=4)\n",
        "            all_users_info.extend(response.json().get(\"data\", []))\n",
        "        else:\n",
        "            print(f\"Error {response.status_code}: {response.json()}\")\n",
        "\n",
        "        if i + BATCH_SIZE < len(user_ids):\n",
        "            print(\"Rate limit reached. Waiting 15 minutes before the next batch...\")\n",
        "            time.sleep(SLEEP_TIME)\n",
        "\n",
        "    return all_users_info\n",
        "\n",
        "\n",
        "users_info = get_users_info(users)\n",
        "\n",
        "\n",
        "with open(FILE_PATH1, \"w\", encoding=\"utf-8\") as file:\n",
        "    json.dump(users_info, file, ensure_ascii=False, indent=4)\n",
        "\n",
        "print(f\"User data saved to {FILE_PATH1}\")\n"
      ]
    },
    {
      "cell_type": "code",
      "source": [
        "install.packages(\"devtools\")\n",
        "install.packages(\"tidytext\")\n",
        "install.packages(\"plyr\")\n",
        "install.packages(\"tidyverse\")\n",
        "install.packages(\"quanteda\")\n",
        "\n",
        "# load libraries\n",
        "library(devtools)\n",
        "library(tidytext)\n",
        "library(plyr)\n",
        "library(tidyverse)\n",
        "library(quanteda)\n"
      ],
      "metadata": {
        "colab": {
          "base_uri": "https://localhost:8080/",
          "height": 0
        },
        "collapsed": true,
        "id": "iFzWfaEbGe9q",
        "outputId": "c20fbfd8-94fa-4a0c-e63d-f51d0731ad77"
      },
      "execution_count": 1,
      "outputs": [
        {
          "output_type": "stream",
          "name": "stderr",
          "text": [
            "Installing package into ‘/usr/local/lib/R/site-library’\n",
            "(as ‘lib’ is unspecified)\n",
            "\n",
            "Installing package into ‘/usr/local/lib/R/site-library’\n",
            "(as ‘lib’ is unspecified)\n",
            "\n",
            "also installing the dependencies ‘SnowballC’, ‘janeaustenr’, ‘tokenizers’\n",
            "\n",
            "\n",
            "Installing package into ‘/usr/local/lib/R/site-library’\n",
            "(as ‘lib’ is unspecified)\n",
            "\n",
            "Installing package into ‘/usr/local/lib/R/site-library’\n",
            "(as ‘lib’ is unspecified)\n",
            "\n",
            "Installing package into ‘/usr/local/lib/R/site-library’\n",
            "(as ‘lib’ is unspecified)\n",
            "\n",
            "also installing the dependencies ‘ISOcodes’, ‘fastmatch’, ‘stopwords’\n",
            "\n",
            "\n",
            "Loading required package: usethis\n",
            "\n",
            "── \u001b[1mAttaching core tidyverse packages\u001b[22m ──────────────────────── tidyverse 2.0.0 ──\n",
            "\u001b[32m✔\u001b[39m \u001b[34mdplyr    \u001b[39m 1.1.4     \u001b[32m✔\u001b[39m \u001b[34mreadr    \u001b[39m 2.1.5\n",
            "\u001b[32m✔\u001b[39m \u001b[34mforcats  \u001b[39m 1.0.0     \u001b[32m✔\u001b[39m \u001b[34mstringr  \u001b[39m 1.5.1\n",
            "\u001b[32m✔\u001b[39m \u001b[34mggplot2  \u001b[39m 3.5.1     \u001b[32m✔\u001b[39m \u001b[34mtibble   \u001b[39m 3.2.1\n",
            "\u001b[32m✔\u001b[39m \u001b[34mlubridate\u001b[39m 1.9.4     \u001b[32m✔\u001b[39m \u001b[34mtidyr    \u001b[39m 1.3.1\n",
            "\u001b[32m✔\u001b[39m \u001b[34mpurrr    \u001b[39m 1.0.4     \n",
            "── \u001b[1mConflicts\u001b[22m ────────────────────────────────────────── tidyverse_conflicts() ──\n",
            "\u001b[31m✖\u001b[39m \u001b[34mdplyr\u001b[39m::\u001b[32marrange()\u001b[39m   masks \u001b[34mplyr\u001b[39m::arrange()\n",
            "\u001b[31m✖\u001b[39m \u001b[34mpurrr\u001b[39m::\u001b[32mcompact()\u001b[39m   masks \u001b[34mplyr\u001b[39m::compact()\n",
            "\u001b[31m✖\u001b[39m \u001b[34mdplyr\u001b[39m::\u001b[32mcount()\u001b[39m     masks \u001b[34mplyr\u001b[39m::count()\n",
            "\u001b[31m✖\u001b[39m \u001b[34mdplyr\u001b[39m::\u001b[32mdesc()\u001b[39m      masks \u001b[34mplyr\u001b[39m::desc()\n",
            "\u001b[31m✖\u001b[39m \u001b[34mdplyr\u001b[39m::\u001b[32mfailwith()\u001b[39m  masks \u001b[34mplyr\u001b[39m::failwith()\n",
            "\u001b[31m✖\u001b[39m \u001b[34mdplyr\u001b[39m::\u001b[32mfilter()\u001b[39m    masks \u001b[34mstats\u001b[39m::filter()\n",
            "\u001b[31m✖\u001b[39m \u001b[34mdplyr\u001b[39m::\u001b[32mid()\u001b[39m        masks \u001b[34mplyr\u001b[39m::id()\n",
            "\u001b[31m✖\u001b[39m \u001b[34mdplyr\u001b[39m::\u001b[32mlag()\u001b[39m       masks \u001b[34mstats\u001b[39m::lag()\n",
            "\u001b[31m✖\u001b[39m \u001b[34mdplyr\u001b[39m::\u001b[32mmutate()\u001b[39m    masks \u001b[34mplyr\u001b[39m::mutate()\n",
            "\u001b[31m✖\u001b[39m \u001b[34mdplyr\u001b[39m::\u001b[32mrename()\u001b[39m    masks \u001b[34mplyr\u001b[39m::rename()\n",
            "\u001b[31m✖\u001b[39m \u001b[34mdplyr\u001b[39m::\u001b[32msummarise()\u001b[39m masks \u001b[34mplyr\u001b[39m::summarise()\n",
            "\u001b[31m✖\u001b[39m \u001b[34mdplyr\u001b[39m::\u001b[32msummarize()\u001b[39m masks \u001b[34mplyr\u001b[39m::summarize()\n",
            "\u001b[36mℹ\u001b[39m Use the conflicted package (\u001b[3m\u001b[34m<http://conflicted.r-lib.org/>\u001b[39m\u001b[23m) to force all conflicts to become errors\n",
            "Package version: 4.2.0\n",
            "Unicode version: 14.0\n",
            "ICU version: 70.1\n",
            "\n",
            "Parallel computing: 2 of 2 threads used.\n",
            "\n",
            "See https://quanteda.io for tutorials and examples.\n",
            "\n"
          ]
        }
      ]
    },
    {
      "cell_type": "markdown",
      "source": [
        "## Basic summary statistics for Donald Trump's tweet comments"
      ],
      "metadata": {
        "id": "hgZpMFZwQe5V"
      }
    },
    {
      "cell_type": "code",
      "source": [
        "library(jsonlite)\n",
        "\n",
        "json_data <- fromJSON(\"/content/tweet_info_1894126415932526802.json\")\n",
        "\n",
        "\n",
        "tweets_df <- data.frame(\n",
        "  doc_id = json_data$id,\n",
        "  author_id = json_data$author_id,\n",
        "  created_at = json_data$created_at,\n",
        "  text = json_data$text,\n",
        "  stringsAsFactors = FALSE\n",
        ")\n",
        "\n",
        "Donald_Trump_tweet_corpus <- corpus(tweets_df, text_field = \"text\")\n",
        "\n",
        "\n",
        "Donald_Trump_tweet_corpus_summary <- summary(tweet_corpus)\n",
        "\n",
        "Donald_Trump_tweet_corpus_summary\n"
      ],
      "metadata": {
        "colab": {
          "base_uri": "https://localhost:8080/",
          "height": 2011
        },
        "id": "LRwkYM72Hd-j",
        "outputId": "3c2fe20a-6752-444c-ab9b-94a0b2cb9159"
      },
      "execution_count": 8,
      "outputs": [
        {
          "output_type": "display_data",
          "data": {
            "text/html": [
              "<table class=\"dataframe\">\n",
              "<caption>A summary.corpus: 99 × 6</caption>\n",
              "<thead>\n",
              "\t<tr><th></th><th scope=col>Text</th><th scope=col>Types</th><th scope=col>Tokens</th><th scope=col>Sentences</th><th scope=col>author_id</th><th scope=col>created_at</th></tr>\n",
              "\t<tr><th></th><th scope=col>&lt;chr&gt;</th><th scope=col>&lt;int&gt;</th><th scope=col>&lt;int&gt;</th><th scope=col>&lt;int&gt;</th><th scope=col>&lt;chr&gt;</th><th scope=col>&lt;chr&gt;</th></tr>\n",
              "</thead>\n",
              "<tbody>\n",
              "\t<tr><th scope=row>1</th><td>1894631283030200625</td><td> 5</td><td>10</td><td>1</td><td>1452016545832443909</td><td>2025-02-26T06:11:13.000Z</td></tr>\n",
              "\t<tr><th scope=row>2</th><td>1894631241372098904</td><td> 2</td><td> 2</td><td>1</td><td>1872496066467151872</td><td>2025-02-26T06:11:03.000Z</td></tr>\n",
              "\t<tr><th scope=row>3</th><td>1894631230068367498</td><td> 2</td><td> 2</td><td>1</td><td>1724760344214880256</td><td>2025-02-26T06:11:00.000Z</td></tr>\n",
              "\t<tr><th scope=row>4</th><td>1894631048916750671</td><td>10</td><td>10</td><td>1</td><td>1907995310         </td><td>2025-02-26T06:10:17.000Z</td></tr>\n",
              "\t<tr><th scope=row>5</th><td>1894631030444675487</td><td>29</td><td>32</td><td>3</td><td>2373859070         </td><td>2025-02-26T06:10:12.000Z</td></tr>\n",
              "\t<tr><th scope=row>6</th><td>1894631020865167579</td><td>41</td><td>66</td><td>3</td><td>1666156625588260864</td><td>2025-02-26T06:10:10.000Z</td></tr>\n",
              "\t<tr><th scope=row>7</th><td>1894630956163596550</td><td>20</td><td>23</td><td>2</td><td>1065156308146548736</td><td>2025-02-26T06:09:55.000Z</td></tr>\n",
              "\t<tr><th scope=row>8</th><td>1894630950174138713</td><td>25</td><td>26</td><td>2</td><td>1239126011247198209</td><td>2025-02-26T06:09:53.000Z</td></tr>\n",
              "\t<tr><th scope=row>9</th><td>1894630936857514451</td><td>41</td><td>66</td><td>3</td><td>1666156625588260864</td><td>2025-02-26T06:09:50.000Z</td></tr>\n",
              "\t<tr><th scope=row>10</th><td>1894630921132798037</td><td>11</td><td>11</td><td>1</td><td>1354196999046901761</td><td>2025-02-26T06:09:46.000Z</td></tr>\n",
              "\t<tr><th scope=row>11</th><td>1894630673475871120</td><td> 3</td><td> 3</td><td>1</td><td>1891642590258434048</td><td>2025-02-26T06:08:47.000Z</td></tr>\n",
              "\t<tr><th scope=row>12</th><td>1894630668375585265</td><td> 3</td><td> 3</td><td>1</td><td>1892189788607811584</td><td>2025-02-26T06:08:46.000Z</td></tr>\n",
              "\t<tr><th scope=row>13</th><td>1894630665288597629</td><td> 3</td><td> 3</td><td>1</td><td>1891347688505085952</td><td>2025-02-26T06:08:45.000Z</td></tr>\n",
              "\t<tr><th scope=row>14</th><td>1894630662805573781</td><td> 3</td><td> 3</td><td>1</td><td>1891242839327096832</td><td>2025-02-26T06:08:45.000Z</td></tr>\n",
              "\t<tr><th scope=row>15</th><td>1894630623509450947</td><td>35</td><td>42</td><td>2</td><td>1452016545832443909</td><td>2025-02-26T06:08:35.000Z</td></tr>\n",
              "\t<tr><th scope=row>16</th><td>1894630568194654473</td><td> 3</td><td> 3</td><td>1</td><td>1891666462470701056</td><td>2025-02-26T06:08:22.000Z</td></tr>\n",
              "\t<tr><th scope=row>17</th><td>1894630560506560806</td><td> 3</td><td> 3</td><td>1</td><td>1891312093896294400</td><td>2025-02-26T06:08:20.000Z</td></tr>\n",
              "\t<tr><th scope=row>18</th><td>1894630559659258011</td><td> 3</td><td> 3</td><td>1</td><td>1891399730610987008</td><td>2025-02-26T06:08:20.000Z</td></tr>\n",
              "\t<tr><th scope=row>19</th><td>1894630557251764601</td><td> 3</td><td> 3</td><td>1</td><td>1891251157915328512</td><td>2025-02-26T06:08:20.000Z</td></tr>\n",
              "\t<tr><th scope=row>20</th><td>1894630557075542335</td><td> 3</td><td> 3</td><td>1</td><td>1891259348074344448</td><td>2025-02-26T06:08:19.000Z</td></tr>\n",
              "\t<tr><th scope=row>21</th><td>1894630515216450030</td><td> 2</td><td> 2</td><td>1</td><td>3309358965         </td><td>2025-02-26T06:08:10.000Z</td></tr>\n",
              "\t<tr><th scope=row>22</th><td>1894630434346357199</td><td>26</td><td>39</td><td>3</td><td>1805911877324808193</td><td>2025-02-26T06:07:50.000Z</td></tr>\n",
              "\t<tr><th scope=row>23</th><td>1894630361801404553</td><td> 5</td><td> 5</td><td>1</td><td>850347889          </td><td>2025-02-26T06:07:33.000Z</td></tr>\n",
              "\t<tr><th scope=row>24</th><td>1894630293950149035</td><td> 7</td><td> 7</td><td>1</td><td>1642921545655021569</td><td>2025-02-26T06:07:17.000Z</td></tr>\n",
              "\t<tr><th scope=row>25</th><td>1894630289852567819</td><td> 3</td><td> 3</td><td>1</td><td>1355120863666864130</td><td>2025-02-26T06:07:16.000Z</td></tr>\n",
              "\t<tr><th scope=row>26</th><td>1894630222563348682</td><td>23</td><td>26</td><td>3</td><td>1755138585937031169</td><td>2025-02-26T06:07:00.000Z</td></tr>\n",
              "\t<tr><th scope=row>27</th><td>1894630166003159481</td><td>22</td><td>28</td><td>4</td><td>1850100532960186368</td><td>2025-02-26T06:06:46.000Z</td></tr>\n",
              "\t<tr><th scope=row>28</th><td>1894630105810440403</td><td> 6</td><td> 6</td><td>1</td><td>1065156308146548736</td><td>2025-02-26T06:06:32.000Z</td></tr>\n",
              "\t<tr><th scope=row>29</th><td>1894630007969833389</td><td> 2</td><td> 2</td><td>1</td><td>961316543756947456 </td><td>2025-02-26T06:06:09.000Z</td></tr>\n",
              "\t<tr><th scope=row>30</th><td>1894629980451344878</td><td>41</td><td>53</td><td>1</td><td>1556393392879255552</td><td>2025-02-26T06:06:02.000Z</td></tr>\n",
              "\t<tr><th scope=row>⋮</th><td>⋮</td><td>⋮</td><td>⋮</td><td>⋮</td><td>⋮</td><td>⋮</td></tr>\n",
              "\t<tr><th scope=row>70</th><td>1894627891302076749</td><td> 2</td><td> 2</td><td>1</td><td>157174810          </td><td>2025-02-26T05:57:44.000Z</td></tr>\n",
              "\t<tr><th scope=row>71</th><td>1894627851431002158</td><td>23</td><td>27</td><td>4</td><td>1849462206536335360</td><td>2025-02-26T05:57:34.000Z</td></tr>\n",
              "\t<tr><th scope=row>72</th><td>1894627822867546112</td><td>38</td><td>54</td><td>5</td><td>4627999849         </td><td>2025-02-26T05:57:28.000Z</td></tr>\n",
              "\t<tr><th scope=row>73</th><td>1894627795021828496</td><td> 8</td><td> 9</td><td>1</td><td>1249534049850253312</td><td>2025-02-26T05:57:21.000Z</td></tr>\n",
              "\t<tr><th scope=row>74</th><td>1894627794555949197</td><td>10</td><td>11</td><td>1</td><td>722418228          </td><td>2025-02-26T05:57:21.000Z</td></tr>\n",
              "\t<tr><th scope=row>75</th><td>1894627662003671045</td><td>14</td><td>18</td><td>3</td><td>1849101204019916800</td><td>2025-02-26T05:56:49.000Z</td></tr>\n",
              "\t<tr><th scope=row>76</th><td>1894627643867500649</td><td> 4</td><td> 4</td><td>1</td><td>157174810          </td><td>2025-02-26T05:56:45.000Z</td></tr>\n",
              "\t<tr><th scope=row>77</th><td>1894627639001780527</td><td>16</td><td>25</td><td>1</td><td>974293712795611136 </td><td>2025-02-26T05:56:44.000Z</td></tr>\n",
              "\t<tr><th scope=row>78</th><td>1894627509016449317</td><td>21</td><td>23</td><td>1</td><td>1848552276664979459</td><td>2025-02-26T05:56:13.000Z</td></tr>\n",
              "\t<tr><th scope=row>79</th><td>1894627507795890667</td><td>31</td><td>33</td><td>2</td><td>990571468135194625 </td><td>2025-02-26T05:56:12.000Z</td></tr>\n",
              "\t<tr><th scope=row>80</th><td>1894627487792988288</td><td> 5</td><td> 6</td><td>1</td><td>93782318           </td><td>2025-02-26T05:56:08.000Z</td></tr>\n",
              "\t<tr><th scope=row>81</th><td>1894627487604175257</td><td>27</td><td>36</td><td>2</td><td>1239126011247198209</td><td>2025-02-26T05:56:08.000Z</td></tr>\n",
              "\t<tr><th scope=row>82</th><td>1894627484101976252</td><td>13</td><td>15</td><td>1</td><td>1891901954789388288</td><td>2025-02-26T05:56:07.000Z</td></tr>\n",
              "\t<tr><th scope=row>83</th><td>1894627473440035243</td><td> 6</td><td> 6</td><td>1</td><td>4695907952         </td><td>2025-02-26T05:56:04.000Z</td></tr>\n",
              "\t<tr><th scope=row>84</th><td>1894627433443463462</td><td>22</td><td>24</td><td>2</td><td>1097306885391175680</td><td>2025-02-26T05:55:55.000Z</td></tr>\n",
              "\t<tr><th scope=row>85</th><td>1894627418746372391</td><td>20</td><td>21</td><td>2</td><td>93782318           </td><td>2025-02-26T05:55:51.000Z</td></tr>\n",
              "\t<tr><th scope=row>86</th><td>1894627403495862485</td><td>43</td><td>52</td><td>3</td><td>1239126011247198209</td><td>2025-02-26T05:55:48.000Z</td></tr>\n",
              "\t<tr><th scope=row>87</th><td>1894627356414763234</td><td> 6</td><td> 6</td><td>1</td><td>1498367035373404161</td><td>2025-02-26T05:55:36.000Z</td></tr>\n",
              "\t<tr><th scope=row>88</th><td>1894627352338206988</td><td> 6</td><td> 6</td><td>1</td><td>1239856799462785024</td><td>2025-02-26T05:55:35.000Z</td></tr>\n",
              "\t<tr><th scope=row>89</th><td>1894627285443178603</td><td>35</td><td>41</td><td>3</td><td>737235812          </td><td>2025-02-26T05:55:19.000Z</td></tr>\n",
              "\t<tr><th scope=row>90</th><td>1894627248717570339</td><td> 4</td><td> 4</td><td>1</td><td>1823320488946618368</td><td>2025-02-26T05:55:11.000Z</td></tr>\n",
              "\t<tr><th scope=row>91</th><td>1894627228756877682</td><td>13</td><td>16</td><td>2</td><td>1591746045372932096</td><td>2025-02-26T05:55:06.000Z</td></tr>\n",
              "\t<tr><th scope=row>92</th><td>1894627225024303329</td><td>29</td><td>32</td><td>2</td><td>983720972938248192 </td><td>2025-02-26T05:55:05.000Z</td></tr>\n",
              "\t<tr><th scope=row>93</th><td>1894627217214509525</td><td>12</td><td>12</td><td>1</td><td>1873838865716568065</td><td>2025-02-26T05:55:03.000Z</td></tr>\n",
              "\t<tr><th scope=row>94</th><td>1894627214978605505</td><td> 5</td><td> 5</td><td>1</td><td>1823320488946618368</td><td>2025-02-26T05:55:03.000Z</td></tr>\n",
              "\t<tr><th scope=row>95</th><td>1894627198973198395</td><td>39</td><td>42</td><td>1</td><td>1239126011247198209</td><td>2025-02-26T05:54:59.000Z</td></tr>\n",
              "\t<tr><th scope=row>96</th><td>1894627196687323603</td><td> 9</td><td> 9</td><td>1</td><td>1880711337061519360</td><td>2025-02-26T05:54:58.000Z</td></tr>\n",
              "\t<tr><th scope=row>97</th><td>1894627193189212664</td><td>22</td><td>25</td><td>2</td><td>1851313428385701888</td><td>2025-02-26T05:54:57.000Z</td></tr>\n",
              "\t<tr><th scope=row>98</th><td>1894627148830564695</td><td> 2</td><td> 2</td><td>1</td><td>1893603243072323584</td><td>2025-02-26T05:54:47.000Z</td></tr>\n",
              "\t<tr><th scope=row>99</th><td>1894627129419055583</td><td> 3</td><td> 3</td><td>1</td><td>1823320488946618368</td><td>2025-02-26T05:54:42.000Z</td></tr>\n",
              "</tbody>\n",
              "</table>\n"
            ],
            "text/markdown": "\nA summary.corpus: 99 × 6\n\n| <!--/--> | Text &lt;chr&gt; | Types &lt;int&gt; | Tokens &lt;int&gt; | Sentences &lt;int&gt; | author_id &lt;chr&gt; | created_at &lt;chr&gt; |\n|---|---|---|---|---|---|---|\n| 1 | 1894631283030200625 |  5 | 10 | 1 | 1452016545832443909 | 2025-02-26T06:11:13.000Z |\n| 2 | 1894631241372098904 |  2 |  2 | 1 | 1872496066467151872 | 2025-02-26T06:11:03.000Z |\n| 3 | 1894631230068367498 |  2 |  2 | 1 | 1724760344214880256 | 2025-02-26T06:11:00.000Z |\n| 4 | 1894631048916750671 | 10 | 10 | 1 | 1907995310          | 2025-02-26T06:10:17.000Z |\n| 5 | 1894631030444675487 | 29 | 32 | 3 | 2373859070          | 2025-02-26T06:10:12.000Z |\n| 6 | 1894631020865167579 | 41 | 66 | 3 | 1666156625588260864 | 2025-02-26T06:10:10.000Z |\n| 7 | 1894630956163596550 | 20 | 23 | 2 | 1065156308146548736 | 2025-02-26T06:09:55.000Z |\n| 8 | 1894630950174138713 | 25 | 26 | 2 | 1239126011247198209 | 2025-02-26T06:09:53.000Z |\n| 9 | 1894630936857514451 | 41 | 66 | 3 | 1666156625588260864 | 2025-02-26T06:09:50.000Z |\n| 10 | 1894630921132798037 | 11 | 11 | 1 | 1354196999046901761 | 2025-02-26T06:09:46.000Z |\n| 11 | 1894630673475871120 |  3 |  3 | 1 | 1891642590258434048 | 2025-02-26T06:08:47.000Z |\n| 12 | 1894630668375585265 |  3 |  3 | 1 | 1892189788607811584 | 2025-02-26T06:08:46.000Z |\n| 13 | 1894630665288597629 |  3 |  3 | 1 | 1891347688505085952 | 2025-02-26T06:08:45.000Z |\n| 14 | 1894630662805573781 |  3 |  3 | 1 | 1891242839327096832 | 2025-02-26T06:08:45.000Z |\n| 15 | 1894630623509450947 | 35 | 42 | 2 | 1452016545832443909 | 2025-02-26T06:08:35.000Z |\n| 16 | 1894630568194654473 |  3 |  3 | 1 | 1891666462470701056 | 2025-02-26T06:08:22.000Z |\n| 17 | 1894630560506560806 |  3 |  3 | 1 | 1891312093896294400 | 2025-02-26T06:08:20.000Z |\n| 18 | 1894630559659258011 |  3 |  3 | 1 | 1891399730610987008 | 2025-02-26T06:08:20.000Z |\n| 19 | 1894630557251764601 |  3 |  3 | 1 | 1891251157915328512 | 2025-02-26T06:08:20.000Z |\n| 20 | 1894630557075542335 |  3 |  3 | 1 | 1891259348074344448 | 2025-02-26T06:08:19.000Z |\n| 21 | 1894630515216450030 |  2 |  2 | 1 | 3309358965          | 2025-02-26T06:08:10.000Z |\n| 22 | 1894630434346357199 | 26 | 39 | 3 | 1805911877324808193 | 2025-02-26T06:07:50.000Z |\n| 23 | 1894630361801404553 |  5 |  5 | 1 | 850347889           | 2025-02-26T06:07:33.000Z |\n| 24 | 1894630293950149035 |  7 |  7 | 1 | 1642921545655021569 | 2025-02-26T06:07:17.000Z |\n| 25 | 1894630289852567819 |  3 |  3 | 1 | 1355120863666864130 | 2025-02-26T06:07:16.000Z |\n| 26 | 1894630222563348682 | 23 | 26 | 3 | 1755138585937031169 | 2025-02-26T06:07:00.000Z |\n| 27 | 1894630166003159481 | 22 | 28 | 4 | 1850100532960186368 | 2025-02-26T06:06:46.000Z |\n| 28 | 1894630105810440403 |  6 |  6 | 1 | 1065156308146548736 | 2025-02-26T06:06:32.000Z |\n| 29 | 1894630007969833389 |  2 |  2 | 1 | 961316543756947456  | 2025-02-26T06:06:09.000Z |\n| 30 | 1894629980451344878 | 41 | 53 | 1 | 1556393392879255552 | 2025-02-26T06:06:02.000Z |\n| ⋮ | ⋮ | ⋮ | ⋮ | ⋮ | ⋮ | ⋮ |\n| 70 | 1894627891302076749 |  2 |  2 | 1 | 157174810           | 2025-02-26T05:57:44.000Z |\n| 71 | 1894627851431002158 | 23 | 27 | 4 | 1849462206536335360 | 2025-02-26T05:57:34.000Z |\n| 72 | 1894627822867546112 | 38 | 54 | 5 | 4627999849          | 2025-02-26T05:57:28.000Z |\n| 73 | 1894627795021828496 |  8 |  9 | 1 | 1249534049850253312 | 2025-02-26T05:57:21.000Z |\n| 74 | 1894627794555949197 | 10 | 11 | 1 | 722418228           | 2025-02-26T05:57:21.000Z |\n| 75 | 1894627662003671045 | 14 | 18 | 3 | 1849101204019916800 | 2025-02-26T05:56:49.000Z |\n| 76 | 1894627643867500649 |  4 |  4 | 1 | 157174810           | 2025-02-26T05:56:45.000Z |\n| 77 | 1894627639001780527 | 16 | 25 | 1 | 974293712795611136  | 2025-02-26T05:56:44.000Z |\n| 78 | 1894627509016449317 | 21 | 23 | 1 | 1848552276664979459 | 2025-02-26T05:56:13.000Z |\n| 79 | 1894627507795890667 | 31 | 33 | 2 | 990571468135194625  | 2025-02-26T05:56:12.000Z |\n| 80 | 1894627487792988288 |  5 |  6 | 1 | 93782318            | 2025-02-26T05:56:08.000Z |\n| 81 | 1894627487604175257 | 27 | 36 | 2 | 1239126011247198209 | 2025-02-26T05:56:08.000Z |\n| 82 | 1894627484101976252 | 13 | 15 | 1 | 1891901954789388288 | 2025-02-26T05:56:07.000Z |\n| 83 | 1894627473440035243 |  6 |  6 | 1 | 4695907952          | 2025-02-26T05:56:04.000Z |\n| 84 | 1894627433443463462 | 22 | 24 | 2 | 1097306885391175680 | 2025-02-26T05:55:55.000Z |\n| 85 | 1894627418746372391 | 20 | 21 | 2 | 93782318            | 2025-02-26T05:55:51.000Z |\n| 86 | 1894627403495862485 | 43 | 52 | 3 | 1239126011247198209 | 2025-02-26T05:55:48.000Z |\n| 87 | 1894627356414763234 |  6 |  6 | 1 | 1498367035373404161 | 2025-02-26T05:55:36.000Z |\n| 88 | 1894627352338206988 |  6 |  6 | 1 | 1239856799462785024 | 2025-02-26T05:55:35.000Z |\n| 89 | 1894627285443178603 | 35 | 41 | 3 | 737235812           | 2025-02-26T05:55:19.000Z |\n| 90 | 1894627248717570339 |  4 |  4 | 1 | 1823320488946618368 | 2025-02-26T05:55:11.000Z |\n| 91 | 1894627228756877682 | 13 | 16 | 2 | 1591746045372932096 | 2025-02-26T05:55:06.000Z |\n| 92 | 1894627225024303329 | 29 | 32 | 2 | 983720972938248192  | 2025-02-26T05:55:05.000Z |\n| 93 | 1894627217214509525 | 12 | 12 | 1 | 1873838865716568065 | 2025-02-26T05:55:03.000Z |\n| 94 | 1894627214978605505 |  5 |  5 | 1 | 1823320488946618368 | 2025-02-26T05:55:03.000Z |\n| 95 | 1894627198973198395 | 39 | 42 | 1 | 1239126011247198209 | 2025-02-26T05:54:59.000Z |\n| 96 | 1894627196687323603 |  9 |  9 | 1 | 1880711337061519360 | 2025-02-26T05:54:58.000Z |\n| 97 | 1894627193189212664 | 22 | 25 | 2 | 1851313428385701888 | 2025-02-26T05:54:57.000Z |\n| 98 | 1894627148830564695 |  2 |  2 | 1 | 1893603243072323584 | 2025-02-26T05:54:47.000Z |\n| 99 | 1894627129419055583 |  3 |  3 | 1 | 1823320488946618368 | 2025-02-26T05:54:42.000Z |\n\n",
            "text/latex": "A summary.corpus: 99 × 6\n\\begin{tabular}{r|llllll}\n  & Text & Types & Tokens & Sentences & author\\_id & created\\_at\\\\\n  & <chr> & <int> & <int> & <int> & <chr> & <chr>\\\\\n\\hline\n\t1 & 1894631283030200625 &  5 & 10 & 1 & 1452016545832443909 & 2025-02-26T06:11:13.000Z\\\\\n\t2 & 1894631241372098904 &  2 &  2 & 1 & 1872496066467151872 & 2025-02-26T06:11:03.000Z\\\\\n\t3 & 1894631230068367498 &  2 &  2 & 1 & 1724760344214880256 & 2025-02-26T06:11:00.000Z\\\\\n\t4 & 1894631048916750671 & 10 & 10 & 1 & 1907995310          & 2025-02-26T06:10:17.000Z\\\\\n\t5 & 1894631030444675487 & 29 & 32 & 3 & 2373859070          & 2025-02-26T06:10:12.000Z\\\\\n\t6 & 1894631020865167579 & 41 & 66 & 3 & 1666156625588260864 & 2025-02-26T06:10:10.000Z\\\\\n\t7 & 1894630956163596550 & 20 & 23 & 2 & 1065156308146548736 & 2025-02-26T06:09:55.000Z\\\\\n\t8 & 1894630950174138713 & 25 & 26 & 2 & 1239126011247198209 & 2025-02-26T06:09:53.000Z\\\\\n\t9 & 1894630936857514451 & 41 & 66 & 3 & 1666156625588260864 & 2025-02-26T06:09:50.000Z\\\\\n\t10 & 1894630921132798037 & 11 & 11 & 1 & 1354196999046901761 & 2025-02-26T06:09:46.000Z\\\\\n\t11 & 1894630673475871120 &  3 &  3 & 1 & 1891642590258434048 & 2025-02-26T06:08:47.000Z\\\\\n\t12 & 1894630668375585265 &  3 &  3 & 1 & 1892189788607811584 & 2025-02-26T06:08:46.000Z\\\\\n\t13 & 1894630665288597629 &  3 &  3 & 1 & 1891347688505085952 & 2025-02-26T06:08:45.000Z\\\\\n\t14 & 1894630662805573781 &  3 &  3 & 1 & 1891242839327096832 & 2025-02-26T06:08:45.000Z\\\\\n\t15 & 1894630623509450947 & 35 & 42 & 2 & 1452016545832443909 & 2025-02-26T06:08:35.000Z\\\\\n\t16 & 1894630568194654473 &  3 &  3 & 1 & 1891666462470701056 & 2025-02-26T06:08:22.000Z\\\\\n\t17 & 1894630560506560806 &  3 &  3 & 1 & 1891312093896294400 & 2025-02-26T06:08:20.000Z\\\\\n\t18 & 1894630559659258011 &  3 &  3 & 1 & 1891399730610987008 & 2025-02-26T06:08:20.000Z\\\\\n\t19 & 1894630557251764601 &  3 &  3 & 1 & 1891251157915328512 & 2025-02-26T06:08:20.000Z\\\\\n\t20 & 1894630557075542335 &  3 &  3 & 1 & 1891259348074344448 & 2025-02-26T06:08:19.000Z\\\\\n\t21 & 1894630515216450030 &  2 &  2 & 1 & 3309358965          & 2025-02-26T06:08:10.000Z\\\\\n\t22 & 1894630434346357199 & 26 & 39 & 3 & 1805911877324808193 & 2025-02-26T06:07:50.000Z\\\\\n\t23 & 1894630361801404553 &  5 &  5 & 1 & 850347889           & 2025-02-26T06:07:33.000Z\\\\\n\t24 & 1894630293950149035 &  7 &  7 & 1 & 1642921545655021569 & 2025-02-26T06:07:17.000Z\\\\\n\t25 & 1894630289852567819 &  3 &  3 & 1 & 1355120863666864130 & 2025-02-26T06:07:16.000Z\\\\\n\t26 & 1894630222563348682 & 23 & 26 & 3 & 1755138585937031169 & 2025-02-26T06:07:00.000Z\\\\\n\t27 & 1894630166003159481 & 22 & 28 & 4 & 1850100532960186368 & 2025-02-26T06:06:46.000Z\\\\\n\t28 & 1894630105810440403 &  6 &  6 & 1 & 1065156308146548736 & 2025-02-26T06:06:32.000Z\\\\\n\t29 & 1894630007969833389 &  2 &  2 & 1 & 961316543756947456  & 2025-02-26T06:06:09.000Z\\\\\n\t30 & 1894629980451344878 & 41 & 53 & 1 & 1556393392879255552 & 2025-02-26T06:06:02.000Z\\\\\n\t⋮ & ⋮ & ⋮ & ⋮ & ⋮ & ⋮ & ⋮\\\\\n\t70 & 1894627891302076749 &  2 &  2 & 1 & 157174810           & 2025-02-26T05:57:44.000Z\\\\\n\t71 & 1894627851431002158 & 23 & 27 & 4 & 1849462206536335360 & 2025-02-26T05:57:34.000Z\\\\\n\t72 & 1894627822867546112 & 38 & 54 & 5 & 4627999849          & 2025-02-26T05:57:28.000Z\\\\\n\t73 & 1894627795021828496 &  8 &  9 & 1 & 1249534049850253312 & 2025-02-26T05:57:21.000Z\\\\\n\t74 & 1894627794555949197 & 10 & 11 & 1 & 722418228           & 2025-02-26T05:57:21.000Z\\\\\n\t75 & 1894627662003671045 & 14 & 18 & 3 & 1849101204019916800 & 2025-02-26T05:56:49.000Z\\\\\n\t76 & 1894627643867500649 &  4 &  4 & 1 & 157174810           & 2025-02-26T05:56:45.000Z\\\\\n\t77 & 1894627639001780527 & 16 & 25 & 1 & 974293712795611136  & 2025-02-26T05:56:44.000Z\\\\\n\t78 & 1894627509016449317 & 21 & 23 & 1 & 1848552276664979459 & 2025-02-26T05:56:13.000Z\\\\\n\t79 & 1894627507795890667 & 31 & 33 & 2 & 990571468135194625  & 2025-02-26T05:56:12.000Z\\\\\n\t80 & 1894627487792988288 &  5 &  6 & 1 & 93782318            & 2025-02-26T05:56:08.000Z\\\\\n\t81 & 1894627487604175257 & 27 & 36 & 2 & 1239126011247198209 & 2025-02-26T05:56:08.000Z\\\\\n\t82 & 1894627484101976252 & 13 & 15 & 1 & 1891901954789388288 & 2025-02-26T05:56:07.000Z\\\\\n\t83 & 1894627473440035243 &  6 &  6 & 1 & 4695907952          & 2025-02-26T05:56:04.000Z\\\\\n\t84 & 1894627433443463462 & 22 & 24 & 2 & 1097306885391175680 & 2025-02-26T05:55:55.000Z\\\\\n\t85 & 1894627418746372391 & 20 & 21 & 2 & 93782318            & 2025-02-26T05:55:51.000Z\\\\\n\t86 & 1894627403495862485 & 43 & 52 & 3 & 1239126011247198209 & 2025-02-26T05:55:48.000Z\\\\\n\t87 & 1894627356414763234 &  6 &  6 & 1 & 1498367035373404161 & 2025-02-26T05:55:36.000Z\\\\\n\t88 & 1894627352338206988 &  6 &  6 & 1 & 1239856799462785024 & 2025-02-26T05:55:35.000Z\\\\\n\t89 & 1894627285443178603 & 35 & 41 & 3 & 737235812           & 2025-02-26T05:55:19.000Z\\\\\n\t90 & 1894627248717570339 &  4 &  4 & 1 & 1823320488946618368 & 2025-02-26T05:55:11.000Z\\\\\n\t91 & 1894627228756877682 & 13 & 16 & 2 & 1591746045372932096 & 2025-02-26T05:55:06.000Z\\\\\n\t92 & 1894627225024303329 & 29 & 32 & 2 & 983720972938248192  & 2025-02-26T05:55:05.000Z\\\\\n\t93 & 1894627217214509525 & 12 & 12 & 1 & 1873838865716568065 & 2025-02-26T05:55:03.000Z\\\\\n\t94 & 1894627214978605505 &  5 &  5 & 1 & 1823320488946618368 & 2025-02-26T05:55:03.000Z\\\\\n\t95 & 1894627198973198395 & 39 & 42 & 1 & 1239126011247198209 & 2025-02-26T05:54:59.000Z\\\\\n\t96 & 1894627196687323603 &  9 &  9 & 1 & 1880711337061519360 & 2025-02-26T05:54:58.000Z\\\\\n\t97 & 1894627193189212664 & 22 & 25 & 2 & 1851313428385701888 & 2025-02-26T05:54:57.000Z\\\\\n\t98 & 1894627148830564695 &  2 &  2 & 1 & 1893603243072323584 & 2025-02-26T05:54:47.000Z\\\\\n\t99 & 1894627129419055583 &  3 &  3 & 1 & 1823320488946618368 & 2025-02-26T05:54:42.000Z\\\\\n\\end{tabular}\n",
            "text/plain": [
              "   Text                Types Tokens Sentences author_id          \n",
              "1  1894631283030200625  5    10     1         1452016545832443909\n",
              "2  1894631241372098904  2     2     1         1872496066467151872\n",
              "3  1894631230068367498  2     2     1         1724760344214880256\n",
              "4  1894631048916750671 10    10     1         1907995310         \n",
              "5  1894631030444675487 29    32     3         2373859070         \n",
              "6  1894631020865167579 41    66     3         1666156625588260864\n",
              "7  1894630956163596550 20    23     2         1065156308146548736\n",
              "8  1894630950174138713 25    26     2         1239126011247198209\n",
              "9  1894630936857514451 41    66     3         1666156625588260864\n",
              "10 1894630921132798037 11    11     1         1354196999046901761\n",
              "11 1894630673475871120  3     3     1         1891642590258434048\n",
              "12 1894630668375585265  3     3     1         1892189788607811584\n",
              "13 1894630665288597629  3     3     1         1891347688505085952\n",
              "14 1894630662805573781  3     3     1         1891242839327096832\n",
              "15 1894630623509450947 35    42     2         1452016545832443909\n",
              "16 1894630568194654473  3     3     1         1891666462470701056\n",
              "17 1894630560506560806  3     3     1         1891312093896294400\n",
              "18 1894630559659258011  3     3     1         1891399730610987008\n",
              "19 1894630557251764601  3     3     1         1891251157915328512\n",
              "20 1894630557075542335  3     3     1         1891259348074344448\n",
              "21 1894630515216450030  2     2     1         3309358965         \n",
              "22 1894630434346357199 26    39     3         1805911877324808193\n",
              "23 1894630361801404553  5     5     1         850347889          \n",
              "24 1894630293950149035  7     7     1         1642921545655021569\n",
              "25 1894630289852567819  3     3     1         1355120863666864130\n",
              "26 1894630222563348682 23    26     3         1755138585937031169\n",
              "27 1894630166003159481 22    28     4         1850100532960186368\n",
              "28 1894630105810440403  6     6     1         1065156308146548736\n",
              "29 1894630007969833389  2     2     1         961316543756947456 \n",
              "30 1894629980451344878 41    53     1         1556393392879255552\n",
              "⋮  ⋮                   ⋮     ⋮      ⋮         ⋮                  \n",
              "70 1894627891302076749  2     2     1         157174810          \n",
              "71 1894627851431002158 23    27     4         1849462206536335360\n",
              "72 1894627822867546112 38    54     5         4627999849         \n",
              "73 1894627795021828496  8     9     1         1249534049850253312\n",
              "74 1894627794555949197 10    11     1         722418228          \n",
              "75 1894627662003671045 14    18     3         1849101204019916800\n",
              "76 1894627643867500649  4     4     1         157174810          \n",
              "77 1894627639001780527 16    25     1         974293712795611136 \n",
              "78 1894627509016449317 21    23     1         1848552276664979459\n",
              "79 1894627507795890667 31    33     2         990571468135194625 \n",
              "80 1894627487792988288  5     6     1         93782318           \n",
              "81 1894627487604175257 27    36     2         1239126011247198209\n",
              "82 1894627484101976252 13    15     1         1891901954789388288\n",
              "83 1894627473440035243  6     6     1         4695907952         \n",
              "84 1894627433443463462 22    24     2         1097306885391175680\n",
              "85 1894627418746372391 20    21     2         93782318           \n",
              "86 1894627403495862485 43    52     3         1239126011247198209\n",
              "87 1894627356414763234  6     6     1         1498367035373404161\n",
              "88 1894627352338206988  6     6     1         1239856799462785024\n",
              "89 1894627285443178603 35    41     3         737235812          \n",
              "90 1894627248717570339  4     4     1         1823320488946618368\n",
              "91 1894627228756877682 13    16     2         1591746045372932096\n",
              "92 1894627225024303329 29    32     2         983720972938248192 \n",
              "93 1894627217214509525 12    12     1         1873838865716568065\n",
              "94 1894627214978605505  5     5     1         1823320488946618368\n",
              "95 1894627198973198395 39    42     1         1239126011247198209\n",
              "96 1894627196687323603  9     9     1         1880711337061519360\n",
              "97 1894627193189212664 22    25     2         1851313428385701888\n",
              "98 1894627148830564695  2     2     1         1893603243072323584\n",
              "99 1894627129419055583  3     3     1         1823320488946618368\n",
              "   created_at              \n",
              "1  2025-02-26T06:11:13.000Z\n",
              "2  2025-02-26T06:11:03.000Z\n",
              "3  2025-02-26T06:11:00.000Z\n",
              "4  2025-02-26T06:10:17.000Z\n",
              "5  2025-02-26T06:10:12.000Z\n",
              "6  2025-02-26T06:10:10.000Z\n",
              "7  2025-02-26T06:09:55.000Z\n",
              "8  2025-02-26T06:09:53.000Z\n",
              "9  2025-02-26T06:09:50.000Z\n",
              "10 2025-02-26T06:09:46.000Z\n",
              "11 2025-02-26T06:08:47.000Z\n",
              "12 2025-02-26T06:08:46.000Z\n",
              "13 2025-02-26T06:08:45.000Z\n",
              "14 2025-02-26T06:08:45.000Z\n",
              "15 2025-02-26T06:08:35.000Z\n",
              "16 2025-02-26T06:08:22.000Z\n",
              "17 2025-02-26T06:08:20.000Z\n",
              "18 2025-02-26T06:08:20.000Z\n",
              "19 2025-02-26T06:08:20.000Z\n",
              "20 2025-02-26T06:08:19.000Z\n",
              "21 2025-02-26T06:08:10.000Z\n",
              "22 2025-02-26T06:07:50.000Z\n",
              "23 2025-02-26T06:07:33.000Z\n",
              "24 2025-02-26T06:07:17.000Z\n",
              "25 2025-02-26T06:07:16.000Z\n",
              "26 2025-02-26T06:07:00.000Z\n",
              "27 2025-02-26T06:06:46.000Z\n",
              "28 2025-02-26T06:06:32.000Z\n",
              "29 2025-02-26T06:06:09.000Z\n",
              "30 2025-02-26T06:06:02.000Z\n",
              "⋮  ⋮                       \n",
              "70 2025-02-26T05:57:44.000Z\n",
              "71 2025-02-26T05:57:34.000Z\n",
              "72 2025-02-26T05:57:28.000Z\n",
              "73 2025-02-26T05:57:21.000Z\n",
              "74 2025-02-26T05:57:21.000Z\n",
              "75 2025-02-26T05:56:49.000Z\n",
              "76 2025-02-26T05:56:45.000Z\n",
              "77 2025-02-26T05:56:44.000Z\n",
              "78 2025-02-26T05:56:13.000Z\n",
              "79 2025-02-26T05:56:12.000Z\n",
              "80 2025-02-26T05:56:08.000Z\n",
              "81 2025-02-26T05:56:08.000Z\n",
              "82 2025-02-26T05:56:07.000Z\n",
              "83 2025-02-26T05:56:04.000Z\n",
              "84 2025-02-26T05:55:55.000Z\n",
              "85 2025-02-26T05:55:51.000Z\n",
              "86 2025-02-26T05:55:48.000Z\n",
              "87 2025-02-26T05:55:36.000Z\n",
              "88 2025-02-26T05:55:35.000Z\n",
              "89 2025-02-26T05:55:19.000Z\n",
              "90 2025-02-26T05:55:11.000Z\n",
              "91 2025-02-26T05:55:06.000Z\n",
              "92 2025-02-26T05:55:05.000Z\n",
              "93 2025-02-26T05:55:03.000Z\n",
              "94 2025-02-26T05:55:03.000Z\n",
              "95 2025-02-26T05:54:59.000Z\n",
              "96 2025-02-26T05:54:58.000Z\n",
              "97 2025-02-26T05:54:57.000Z\n",
              "98 2025-02-26T05:54:47.000Z\n",
              "99 2025-02-26T05:54:42.000Z"
            ]
          },
          "metadata": {}
        }
      ]
    },
    {
      "cell_type": "code",
      "source": [
        "DT_tweet_tokens <- tokens(Donald_Trump_tweet_corpus, remove_punct = T)\n",
        "print(DT_tweet_tokens)"
      ],
      "metadata": {
        "colab": {
          "base_uri": "https://localhost:8080/",
          "height": 0
        },
        "id": "MPHN2YjLIwi4",
        "outputId": "893b84c5-bf22-420a-d26a-89eae0dd84a8"
      },
      "execution_count": 10,
      "outputs": [
        {
          "output_type": "stream",
          "name": "stdout",
          "text": [
            "Tokens consisting of 99 documents and 2 docvars.\n",
            "1894631283030200625 :\n",
            "[1] \"@realDonaldTrump\"        \"and\"                    \n",
            "[3] \"this\"                    \"https://t.co/4R9w5U5K2a\"\n",
            "\n",
            "1894631241372098904 :\n",
            "[1] \"@realDonaldTrump\"        \"https://t.co/3vOKKbDrvA\"\n",
            "\n",
            "1894631230068367498 :\n",
            "[1] \"@realDonaldTrump\" \"Good\"            \n",
            "\n",
            "1894631048916750671 :\n",
            "[1] \"@realDonaldTrump\" \"Decentralized\"    \"exchanges\"        \"facilitate\"      \n",
            "[5] \"direct\"           \"crypto\"           \"trading\"          \"without\"         \n",
            "[9] \"intermediaries\"  \n",
            "\n",
            "1894631030444675487 :\n",
            " [1] \"@realDonaldTrump\" \"Bully\"            \"Trump\"            \"backed\"          \n",
            " [5] \"into\"             \"a\"                \"corner\"           \"That’s\"          \n",
            " [9] \"what\"             \"usually\"          \"happens\"          \"when\"            \n",
            "[ ... and 14 more ]\n",
            "\n",
            "1894631020865167579 :\n",
            " [1] \"@realDonaldTrump\" \"🇺🇸\"               \"🇺🇸\"               \"🇺🇸\"              \n",
            " [5] \"🇺🇸\"               \"🇺🇸\"               \"🇺🇸\"               \"🇺🇸\"              \n",
            " [9] \"🇺🇸\"               \"🇺🇸\"               \"🇺🇸\"               \"🇺🇸\"              \n",
            "[ ... and 49 more ]\n",
            "\n",
            "[ reached max_ndoc ... 93 more documents ]\n"
          ]
        }
      ]
    },
    {
      "cell_type": "code",
      "source": [
        "# create a tokens object\n",
        "dt_tokens <- tokens(DT_tweet_tokens,\n",
        "    remove_punct=T,\n",
        "    remove_numbers=T,\n",
        "    remove_symbols=T)\n",
        "\n",
        "dt_tokens <- tokens_remove(dt_tokens, stopwords(\"english\"))\n",
        "dt_tokens <- tokens_remove(dt_tokens, pattern = \"^@\\\\w+\", valuetype = \"regex\")\n",
        "\n",
        "dt_dfm <- dfm(dt_tokens)\n",
        "\n",
        "# find out a quick summary of the dfm\n",
        "dt_dfm"
      ],
      "metadata": {
        "colab": {
          "base_uri": "https://localhost:8080/",
          "height": 481
        },
        "id": "MVPBXXTJMVPQ",
        "outputId": "4ec3b9ad-9df3-45a2-dc02-ba5c42ea7355"
      },
      "execution_count": 38,
      "outputs": [
        {
          "output_type": "display_data",
          "data": {
            "text/plain": [
              "Document-feature matrix of: 99 documents, 663 features (98.74% sparse) and 2 docvars.\n",
              "                     features\n",
              "docs                  https://t.co/4r9w5u5k2a https://t.co/3vokkbdrva good\n",
              "  1894631283030200625                       1                       0    0\n",
              "  1894631241372098904                       0                       1    0\n",
              "  1894631230068367498                       0                       0    1\n",
              "  1894631048916750671                       0                       0    0\n",
              "  1894631030444675487                       0                       0    0\n",
              "  1894631020865167579                       0                       0    0\n",
              "                     features\n",
              "docs                  decentralized exchanges facilitate direct crypto trading\n",
              "  1894631283030200625             0         0          0      0      0       0\n",
              "  1894631241372098904             0         0          0      0      0       0\n",
              "  1894631230068367498             0         0          0      0      0       0\n",
              "  1894631048916750671             1         1          1      1      1       1\n",
              "  1894631030444675487             0         0          0      0      0       0\n",
              "  1894631020865167579             0         0          0      0      0       0\n",
              "                     features\n",
              "docs                  without\n",
              "  1894631283030200625       0\n",
              "  1894631241372098904       0\n",
              "  1894631230068367498       0\n",
              "  1894631048916750671       1\n",
              "  1894631030444675487       0\n",
              "  1894631020865167579       0\n",
              "[ reached max_ndoc ... 93 more documents, reached max_nfeat ... 653 more features ]"
            ]
          },
          "metadata": {}
        }
      ]
    },
    {
      "cell_type": "code",
      "source": [
        "install.packages(\"quanteda.textplots\")\n",
        "library(quanteda.textplots)"
      ],
      "metadata": {
        "colab": {
          "base_uri": "https://localhost:8080/",
          "height": 0
        },
        "collapsed": true,
        "id": "gbRZj69IM36y",
        "outputId": "85632168-1a49-40f3-a72c-d9380f615272"
      },
      "execution_count": 12,
      "outputs": [
        {
          "output_type": "stream",
          "name": "stderr",
          "text": [
            "Installing package into ‘/usr/local/lib/R/site-library’\n",
            "(as ‘lib’ is unspecified)\n",
            "\n",
            "also installing the dependencies ‘coda’, ‘extrafontdb’, ‘Rttf2pt1’, ‘statnet.common’, ‘extrafont’, ‘ggrepel’, ‘sna’, ‘igraph’, ‘network’\n",
            "\n",
            "\n"
          ]
        }
      ]
    },
    {
      "cell_type": "code",
      "source": [
        "set.seed(1234)\n",
        "\n",
        "textplot_wordcloud(dt_dfm, min_count = 3,  random_order = FALSE)"
      ],
      "metadata": {
        "colab": {
          "base_uri": "https://localhost:8080/",
          "height": 508
        },
        "id": "A-p5r8kLM_Yp",
        "outputId": "d5253e28-5a04-4640-acfd-82921bc2ad61"
      },
      "execution_count": 42,
      "outputs": [
        {
          "output_type": "stream",
          "name": "stderr",
          "text": [
            "Warning message in text.default(x1, y1, word[i], cex = (1 + adjust) * size[i], offset = 0, :\n",
            "“font metrics unknown for Unicode character U+1F1FA”\n",
            "Warning message in text.default(x1, y1, word[i], cex = (1 + adjust) * size[i], offset = 0, :\n",
            "“font metrics unknown for Unicode character U+1F1F8”\n"
          ]
        },
        {
          "output_type": "display_data",
          "data": {
            "text/plain": [
              "plot without title"
            ],
            "image/png": "[encoded data removed]"
          },
          "metadata": {
            "image/png": {
              "width": 420,
              "height": 420
            }
          }
        }
      ]
    },
    {
      "cell_type": "markdown",
      "source": [
        "## Basic summary statistics for the Meduza tweet comments"
      ],
      "metadata": {
        "id": "3AF5t27vQks6"
      }
    },
    {
      "cell_type": "code",
      "source": [
        "library(jsonlite)\n",
        "\n",
        "json_meduza_data <- fromJSON(\"/content/tweet_info_1894022390490837112.json\")\n",
        "\n",
        "\n",
        "meduza_tweets_df <- data.frame(\n",
        "  doc_id = json_meduza_data$id,\n",
        "  author_id = json_meduza_data$author_id,\n",
        "  created_at = json_meduza_data$created_at,\n",
        "  text = json_meduza_data$text,\n",
        "  stringsAsFactors = FALSE\n",
        ")\n",
        "\n",
        "meduza_tweet_corpus <- corpus(meduza_tweets_df, text_field = \"text\")\n",
        "\n",
        "\n",
        "meduza_tweet_corpus_summary <- summary(meduza_tweet_corpus)\n",
        "\n",
        "meduza_tweet_corpus_summary\n"
      ],
      "metadata": {
        "colab": {
          "base_uri": "https://localhost:8080/",
          "height": 2011
        },
        "id": "24oCfzo9Q1SO",
        "outputId": "c794bb07-9167-48e5-9eb5-ec44a7ea85da"
      },
      "execution_count": 23,
      "outputs": [
        {
          "output_type": "display_data",
          "data": {
            "text/html": [
              "<table class=\"dataframe\">\n",
              "<caption>A summary.corpus: 84 × 6</caption>\n",
              "<thead>\n",
              "\t<tr><th></th><th scope=col>Text</th><th scope=col>Types</th><th scope=col>Tokens</th><th scope=col>Sentences</th><th scope=col>author_id</th><th scope=col>created_at</th></tr>\n",
              "\t<tr><th></th><th scope=col>&lt;chr&gt;</th><th scope=col>&lt;int&gt;</th><th scope=col>&lt;int&gt;</th><th scope=col>&lt;int&gt;</th><th scope=col>&lt;chr&gt;</th><th scope=col>&lt;chr&gt;</th></tr>\n",
              "</thead>\n",
              "<tbody>\n",
              "\t<tr><th scope=row>1</th><td>1894420450970648686</td><td>14</td><td>14</td><td>1</td><td>1617370594064105472</td><td>2025-02-25T16:13:26.000Z</td></tr>\n",
              "\t<tr><th scope=row>2</th><td>1894362710688595972</td><td>13</td><td>14</td><td>2</td><td>790486619694493697 </td><td>2025-02-25T12:24:00.000Z</td></tr>\n",
              "\t<tr><th scope=row>3</th><td>1894340449642684731</td><td>15</td><td>16</td><td>1</td><td>1064545506276315136</td><td>2025-02-25T10:55:32.000Z</td></tr>\n",
              "\t<tr><th scope=row>4</th><td>1894340310592786589</td><td> 3</td><td> 3</td><td>1</td><td>1064545506276315136</td><td>2025-02-25T10:54:59.000Z</td></tr>\n",
              "\t<tr><th scope=row>5</th><td>1894334816876675428</td><td>14</td><td>15</td><td>2</td><td>1552607512062459904</td><td>2025-02-25T10:33:10.000Z</td></tr>\n",
              "\t<tr><th scope=row>6</th><td>1894333158071357775</td><td>10</td><td>10</td><td>1</td><td>540523554          </td><td>2025-02-25T10:26:34.000Z</td></tr>\n",
              "\t<tr><th scope=row>7</th><td>1894329343599333759</td><td> 9</td><td> 9</td><td>1</td><td>1731527040         </td><td>2025-02-25T10:11:25.000Z</td></tr>\n",
              "\t<tr><th scope=row>8</th><td>1894329281481785786</td><td> 8</td><td> 8</td><td>1</td><td>1731527040         </td><td>2025-02-25T10:11:10.000Z</td></tr>\n",
              "\t<tr><th scope=row>9</th><td>1894329154964709795</td><td>15</td><td>15</td><td>1</td><td>1731527040         </td><td>2025-02-25T10:10:40.000Z</td></tr>\n",
              "\t<tr><th scope=row>10</th><td>1894319580006265071</td><td>39</td><td>45</td><td>2</td><td>1735241900024631296</td><td>2025-02-25T09:32:37.000Z</td></tr>\n",
              "\t<tr><th scope=row>11</th><td>1894308945931464806</td><td> 6</td><td> 6</td><td>1</td><td>1891838929348780032</td><td>2025-02-25T08:50:21.000Z</td></tr>\n",
              "\t<tr><th scope=row>12</th><td>1894290914287259748</td><td> 9</td><td>12</td><td>4</td><td>1333526218336055298</td><td>2025-02-25T07:38:42.000Z</td></tr>\n",
              "\t<tr><th scope=row>13</th><td>1894290455380050195</td><td>12</td><td>15</td><td>1</td><td>1333526218336055298</td><td>2025-02-25T07:36:53.000Z</td></tr>\n",
              "\t<tr><th scope=row>14</th><td>1894289581719077111</td><td>10</td><td>10</td><td>1</td><td>2784624247         </td><td>2025-02-25T07:33:25.000Z</td></tr>\n",
              "\t<tr><th scope=row>15</th><td>1894289268010369138</td><td>19</td><td>20</td><td>1</td><td>1333526218336055298</td><td>2025-02-25T07:32:10.000Z</td></tr>\n",
              "\t<tr><th scope=row>16</th><td>1894276540239618108</td><td> 5</td><td> 5</td><td>1</td><td>927066820376518656 </td><td>2025-02-25T06:41:35.000Z</td></tr>\n",
              "\t<tr><th scope=row>17</th><td>1894275836800323756</td><td> 5</td><td> 5</td><td>1</td><td>1354899747744722948</td><td>2025-02-25T06:38:48.000Z</td></tr>\n",
              "\t<tr><th scope=row>18</th><td>1894267275688951948</td><td>17</td><td>18</td><td>1</td><td>108711505          </td><td>2025-02-25T06:04:46.000Z</td></tr>\n",
              "\t<tr><th scope=row>19</th><td>1894267135679226030</td><td>12</td><td>12</td><td>1</td><td>108711505          </td><td>2025-02-25T06:04:13.000Z</td></tr>\n",
              "\t<tr><th scope=row>20</th><td>1894244779753398526</td><td>46</td><td>54</td><td>3</td><td>2586507312         </td><td>2025-02-25T04:35:23.000Z</td></tr>\n",
              "\t<tr><th scope=row>21</th><td>1894219193211289762</td><td> 9</td><td>11</td><td>2</td><td>4310543445         </td><td>2025-02-25T02:53:43.000Z</td></tr>\n",
              "\t<tr><th scope=row>22</th><td>1894197336038879302</td><td> 4</td><td> 4</td><td>1</td><td>1832343606520070144</td><td>2025-02-25T01:26:52.000Z</td></tr>\n",
              "\t<tr><th scope=row>23</th><td>1894188579355857019</td><td> 9</td><td> 9</td><td>2</td><td>1854536639487315978</td><td>2025-02-25T00:52:04.000Z</td></tr>\n",
              "\t<tr><th scope=row>24</th><td>1894172278163746880</td><td>14</td><td>15</td><td>1</td><td>980411452472389633 </td><td>2025-02-24T23:47:17.000Z</td></tr>\n",
              "\t<tr><th scope=row>25</th><td>1894146171523776901</td><td>10</td><td>10</td><td>1</td><td>2597369920         </td><td>2025-02-24T22:03:33.000Z</td></tr>\n",
              "\t<tr><th scope=row>26</th><td>1894138131512741966</td><td>15</td><td>15</td><td>1</td><td>1371763953722855424</td><td>2025-02-24T21:31:36.000Z</td></tr>\n",
              "\t<tr><th scope=row>27</th><td>1894137893771161990</td><td>18</td><td>19</td><td>2</td><td>1371763953722855424</td><td>2025-02-24T21:30:39.000Z</td></tr>\n",
              "\t<tr><th scope=row>28</th><td>1894137464110862637</td><td>22</td><td>23</td><td>2</td><td>1371763953722855424</td><td>2025-02-24T21:28:57.000Z</td></tr>\n",
              "\t<tr><th scope=row>29</th><td>1894133301948125648</td><td>11</td><td>12</td><td>1</td><td>168121103          </td><td>2025-02-24T21:12:25.000Z</td></tr>\n",
              "\t<tr><th scope=row>30</th><td>1894114736280650020</td><td> 6</td><td> 7</td><td>1</td><td>1464921426155261952</td><td>2025-02-24T19:58:38.000Z</td></tr>\n",
              "\t<tr><th scope=row>⋮</th><td>⋮</td><td>⋮</td><td>⋮</td><td>⋮</td><td>⋮</td><td>⋮</td></tr>\n",
              "\t<tr><th scope=row>55</th><td>1894041710440694059</td><td>23</td><td>23</td><td>2</td><td>1612505889105186826</td><td>2025-02-24T15:08:28.000Z</td></tr>\n",
              "\t<tr><th scope=row>56</th><td>1894041263080362015</td><td> 4</td><td> 4</td><td>1</td><td>1297166764015525889</td><td>2025-02-24T15:06:41.000Z</td></tr>\n",
              "\t<tr><th scope=row>57</th><td>1894040744886763611</td><td>15</td><td>16</td><td>1</td><td>1612505889105186826</td><td>2025-02-24T15:04:37.000Z</td></tr>\n",
              "\t<tr><th scope=row>58</th><td>1894039534221832396</td><td> 3</td><td> 3</td><td>1</td><td>1541778550969323520</td><td>2025-02-24T14:59:49.000Z</td></tr>\n",
              "\t<tr><th scope=row>59</th><td>1894039283754819639</td><td> 5</td><td> 5</td><td>1</td><td>2251407549         </td><td>2025-02-24T14:58:49.000Z</td></tr>\n",
              "\t<tr><th scope=row>60</th><td>1894036070167183373</td><td>22</td><td>23</td><td>1</td><td>3046980497         </td><td>2025-02-24T14:46:03.000Z</td></tr>\n",
              "\t<tr><th scope=row>61</th><td>1894033578914128297</td><td> 2</td><td> 2</td><td>1</td><td>855070625681084417 </td><td>2025-02-24T14:36:09.000Z</td></tr>\n",
              "\t<tr><th scope=row>62</th><td>1894033556772377035</td><td>16</td><td>22</td><td>2</td><td>774496845015941125 </td><td>2025-02-24T14:36:04.000Z</td></tr>\n",
              "\t<tr><th scope=row>63</th><td>1894033018039283997</td><td> 7</td><td> 7</td><td>1</td><td>768296018685272064 </td><td>2025-02-24T14:33:55.000Z</td></tr>\n",
              "\t<tr><th scope=row>64</th><td>1894032907548701124</td><td> 8</td><td> 8</td><td>1</td><td>768296018685272064 </td><td>2025-02-24T14:33:29.000Z</td></tr>\n",
              "\t<tr><th scope=row>65</th><td>1894032146064449708</td><td> 2</td><td> 2</td><td>1</td><td>885117534944493568 </td><td>2025-02-24T14:30:27.000Z</td></tr>\n",
              "\t<tr><th scope=row>66</th><td>1894032091316125922</td><td> 3</td><td> 3</td><td>1</td><td>885117534944493568 </td><td>2025-02-24T14:30:14.000Z</td></tr>\n",
              "\t<tr><th scope=row>67</th><td>1894031853268406283</td><td> 3</td><td> 3</td><td>1</td><td>927066820376518656 </td><td>2025-02-24T14:29:17.000Z</td></tr>\n",
              "\t<tr><th scope=row>68</th><td>1894031610225233989</td><td> 6</td><td> 6</td><td>1</td><td>3362277261         </td><td>2025-02-24T14:28:19.000Z</td></tr>\n",
              "\t<tr><th scope=row>69</th><td>1894031246587494720</td><td>27</td><td>30</td><td>2</td><td>1788767463351402496</td><td>2025-02-24T14:26:53.000Z</td></tr>\n",
              "\t<tr><th scope=row>70</th><td>1894030889186648156</td><td>30</td><td>36</td><td>4</td><td>1636983616767926272</td><td>2025-02-24T14:25:28.000Z</td></tr>\n",
              "\t<tr><th scope=row>71</th><td>1894029726546571534</td><td> 8</td><td> 8</td><td>1</td><td>1638250900249624576</td><td>2025-02-24T14:20:50.000Z</td></tr>\n",
              "\t<tr><th scope=row>72</th><td>1894029265319948599</td><td>25</td><td>27</td><td>3</td><td>3405877781         </td><td>2025-02-24T14:19:00.000Z</td></tr>\n",
              "\t<tr><th scope=row>73</th><td>1894028732525854826</td><td>16</td><td>24</td><td>1</td><td>1638250900249624576</td><td>2025-02-24T14:16:53.000Z</td></tr>\n",
              "\t<tr><th scope=row>74</th><td>1894028252810785024</td><td> 3</td><td> 3</td><td>1</td><td>428298771          </td><td>2025-02-24T14:14:59.000Z</td></tr>\n",
              "\t<tr><th scope=row>75</th><td>1894028005061623833</td><td>14</td><td>15</td><td>1</td><td>4875776883         </td><td>2025-02-24T14:14:00.000Z</td></tr>\n",
              "\t<tr><th scope=row>76</th><td>1894026452141543897</td><td>21</td><td>22</td><td>2</td><td>3405877781         </td><td>2025-02-24T14:07:50.000Z</td></tr>\n",
              "\t<tr><th scope=row>77</th><td>1894026451713679687</td><td>18</td><td>18</td><td>1</td><td>1486972582838652933</td><td>2025-02-24T14:07:50.000Z</td></tr>\n",
              "\t<tr><th scope=row>78</th><td>1894025207083389422</td><td>19</td><td>26</td><td>2</td><td>1638250900249624576</td><td>2025-02-24T14:02:53.000Z</td></tr>\n",
              "\t<tr><th scope=row>79</th><td>1894025091567976748</td><td> 2</td><td> 2</td><td>1</td><td>1776203683618770944</td><td>2025-02-24T14:02:25.000Z</td></tr>\n",
              "\t<tr><th scope=row>80</th><td>1894024877587238983</td><td> 8</td><td> 8</td><td>1</td><td>1771376271785676800</td><td>2025-02-24T14:01:34.000Z</td></tr>\n",
              "\t<tr><th scope=row>81</th><td>1894024683193766264</td><td> 9</td><td> 9</td><td>1</td><td>1777333216296267776</td><td>2025-02-24T14:00:48.000Z</td></tr>\n",
              "\t<tr><th scope=row>82</th><td>1894024036511805671</td><td>10</td><td>13</td><td>2</td><td>1436601920760815621</td><td>2025-02-24T13:58:14.000Z</td></tr>\n",
              "\t<tr><th scope=row>83</th><td>1894023451632886001</td><td> 3</td><td> 3</td><td>1</td><td>1716900405941329920</td><td>2025-02-24T13:55:54.000Z</td></tr>\n",
              "\t<tr><th scope=row>84</th><td>1894022833551908966</td><td> 8</td><td> 8</td><td>1</td><td>872455297545236480 </td><td>2025-02-24T13:53:27.000Z</td></tr>\n",
              "</tbody>\n",
              "</table>\n"
            ],
            "text/markdown": "\nA summary.corpus: 84 × 6\n\n| <!--/--> | Text &lt;chr&gt; | Types &lt;int&gt; | Tokens &lt;int&gt; | Sentences &lt;int&gt; | author_id &lt;chr&gt; | created_at &lt;chr&gt; |\n|---|---|---|---|---|---|---|\n| 1 | 1894420450970648686 | 14 | 14 | 1 | 1617370594064105472 | 2025-02-25T16:13:26.000Z |\n| 2 | 1894362710688595972 | 13 | 14 | 2 | 790486619694493697  | 2025-02-25T12:24:00.000Z |\n| 3 | 1894340449642684731 | 15 | 16 | 1 | 1064545506276315136 | 2025-02-25T10:55:32.000Z |\n| 4 | 1894340310592786589 |  3 |  3 | 1 | 1064545506276315136 | 2025-02-25T10:54:59.000Z |\n| 5 | 1894334816876675428 | 14 | 15 | 2 | 1552607512062459904 | 2025-02-25T10:33:10.000Z |\n| 6 | 1894333158071357775 | 10 | 10 | 1 | 540523554           | 2025-02-25T10:26:34.000Z |\n| 7 | 1894329343599333759 |  9 |  9 | 1 | 1731527040          | 2025-02-25T10:11:25.000Z |\n| 8 | 1894329281481785786 |  8 |  8 | 1 | 1731527040          | 2025-02-25T10:11:10.000Z |\n| 9 | 1894329154964709795 | 15 | 15 | 1 | 1731527040          | 2025-02-25T10:10:40.000Z |\n| 10 | 1894319580006265071 | 39 | 45 | 2 | 1735241900024631296 | 2025-02-25T09:32:37.000Z |\n| 11 | 1894308945931464806 |  6 |  6 | 1 | 1891838929348780032 | 2025-02-25T08:50:21.000Z |\n| 12 | 1894290914287259748 |  9 | 12 | 4 | 1333526218336055298 | 2025-02-25T07:38:42.000Z |\n| 13 | 1894290455380050195 | 12 | 15 | 1 | 1333526218336055298 | 2025-02-25T07:36:53.000Z |\n| 14 | 1894289581719077111 | 10 | 10 | 1 | 2784624247          | 2025-02-25T07:33:25.000Z |\n| 15 | 1894289268010369138 | 19 | 20 | 1 | 1333526218336055298 | 2025-02-25T07:32:10.000Z |\n| 16 | 1894276540239618108 |  5 |  5 | 1 | 927066820376518656  | 2025-02-25T06:41:35.000Z |\n| 17 | 1894275836800323756 |  5 |  5 | 1 | 1354899747744722948 | 2025-02-25T06:38:48.000Z |\n| 18 | 1894267275688951948 | 17 | 18 | 1 | 108711505           | 2025-02-25T06:04:46.000Z |\n| 19 | 1894267135679226030 | 12 | 12 | 1 | 108711505           | 2025-02-25T06:04:13.000Z |\n| 20 | 1894244779753398526 | 46 | 54 | 3 | 2586507312          | 2025-02-25T04:35:23.000Z |\n| 21 | 1894219193211289762 |  9 | 11 | 2 | 4310543445          | 2025-02-25T02:53:43.000Z |\n| 22 | 1894197336038879302 |  4 |  4 | 1 | 1832343606520070144 | 2025-02-25T01:26:52.000Z |\n| 23 | 1894188579355857019 |  9 |  9 | 2 | 1854536639487315978 | 2025-02-25T00:52:04.000Z |\n| 24 | 1894172278163746880 | 14 | 15 | 1 | 980411452472389633  | 2025-02-24T23:47:17.000Z |\n| 25 | 1894146171523776901 | 10 | 10 | 1 | 2597369920          | 2025-02-24T22:03:33.000Z |\n| 26 | 1894138131512741966 | 15 | 15 | 1 | 1371763953722855424 | 2025-02-24T21:31:36.000Z |\n| 27 | 1894137893771161990 | 18 | 19 | 2 | 1371763953722855424 | 2025-02-24T21:30:39.000Z |\n| 28 | 1894137464110862637 | 22 | 23 | 2 | 1371763953722855424 | 2025-02-24T21:28:57.000Z |\n| 29 | 1894133301948125648 | 11 | 12 | 1 | 168121103           | 2025-02-24T21:12:25.000Z |\n| 30 | 1894114736280650020 |  6 |  7 | 1 | 1464921426155261952 | 2025-02-24T19:58:38.000Z |\n| ⋮ | ⋮ | ⋮ | ⋮ | ⋮ | ⋮ | ⋮ |\n| 55 | 1894041710440694059 | 23 | 23 | 2 | 1612505889105186826 | 2025-02-24T15:08:28.000Z |\n| 56 | 1894041263080362015 |  4 |  4 | 1 | 1297166764015525889 | 2025-02-24T15:06:41.000Z |\n| 57 | 1894040744886763611 | 15 | 16 | 1 | 1612505889105186826 | 2025-02-24T15:04:37.000Z |\n| 58 | 1894039534221832396 |  3 |  3 | 1 | 1541778550969323520 | 2025-02-24T14:59:49.000Z |\n| 59 | 1894039283754819639 |  5 |  5 | 1 | 2251407549          | 2025-02-24T14:58:49.000Z |\n| 60 | 1894036070167183373 | 22 | 23 | 1 | 3046980497          | 2025-02-24T14:46:03.000Z |\n| 61 | 1894033578914128297 |  2 |  2 | 1 | 855070625681084417  | 2025-02-24T14:36:09.000Z |\n| 62 | 1894033556772377035 | 16 | 22 | 2 | 774496845015941125  | 2025-02-24T14:36:04.000Z |\n| 63 | 1894033018039283997 |  7 |  7 | 1 | 768296018685272064  | 2025-02-24T14:33:55.000Z |\n| 64 | 1894032907548701124 |  8 |  8 | 1 | 768296018685272064  | 2025-02-24T14:33:29.000Z |\n| 65 | 1894032146064449708 |  2 |  2 | 1 | 885117534944493568  | 2025-02-24T14:30:27.000Z |\n| 66 | 1894032091316125922 |  3 |  3 | 1 | 885117534944493568  | 2025-02-24T14:30:14.000Z |\n| 67 | 1894031853268406283 |  3 |  3 | 1 | 927066820376518656  | 2025-02-24T14:29:17.000Z |\n| 68 | 1894031610225233989 |  6 |  6 | 1 | 3362277261          | 2025-02-24T14:28:19.000Z |\n| 69 | 1894031246587494720 | 27 | 30 | 2 | 1788767463351402496 | 2025-02-24T14:26:53.000Z |\n| 70 | 1894030889186648156 | 30 | 36 | 4 | 1636983616767926272 | 2025-02-24T14:25:28.000Z |\n| 71 | 1894029726546571534 |  8 |  8 | 1 | 1638250900249624576 | 2025-02-24T14:20:50.000Z |\n| 72 | 1894029265319948599 | 25 | 27 | 3 | 3405877781          | 2025-02-24T14:19:00.000Z |\n| 73 | 1894028732525854826 | 16 | 24 | 1 | 1638250900249624576 | 2025-02-24T14:16:53.000Z |\n| 74 | 1894028252810785024 |  3 |  3 | 1 | 428298771           | 2025-02-24T14:14:59.000Z |\n| 75 | 1894028005061623833 | 14 | 15 | 1 | 4875776883          | 2025-02-24T14:14:00.000Z |\n| 76 | 1894026452141543897 | 21 | 22 | 2 | 3405877781          | 2025-02-24T14:07:50.000Z |\n| 77 | 1894026451713679687 | 18 | 18 | 1 | 1486972582838652933 | 2025-02-24T14:07:50.000Z |\n| 78 | 1894025207083389422 | 19 | 26 | 2 | 1638250900249624576 | 2025-02-24T14:02:53.000Z |\n| 79 | 1894025091567976748 |  2 |  2 | 1 | 1776203683618770944 | 2025-02-24T14:02:25.000Z |\n| 80 | 1894024877587238983 |  8 |  8 | 1 | 1771376271785676800 | 2025-02-24T14:01:34.000Z |\n| 81 | 1894024683193766264 |  9 |  9 | 1 | 1777333216296267776 | 2025-02-24T14:00:48.000Z |\n| 82 | 1894024036511805671 | 10 | 13 | 2 | 1436601920760815621 | 2025-02-24T13:58:14.000Z |\n| 83 | 1894023451632886001 |  3 |  3 | 1 | 1716900405941329920 | 2025-02-24T13:55:54.000Z |\n| 84 | 1894022833551908966 |  8 |  8 | 1 | 872455297545236480  | 2025-02-24T13:53:27.000Z |\n\n",
            "text/latex": "A summary.corpus: 84 × 6\n\\begin{tabular}{r|llllll}\n  & Text & Types & Tokens & Sentences & author\\_id & created\\_at\\\\\n  & <chr> & <int> & <int> & <int> & <chr> & <chr>\\\\\n\\hline\n\t1 & 1894420450970648686 & 14 & 14 & 1 & 1617370594064105472 & 2025-02-25T16:13:26.000Z\\\\\n\t2 & 1894362710688595972 & 13 & 14 & 2 & 790486619694493697  & 2025-02-25T12:24:00.000Z\\\\\n\t3 & 1894340449642684731 & 15 & 16 & 1 & 1064545506276315136 & 2025-02-25T10:55:32.000Z\\\\\n\t4 & 1894340310592786589 &  3 &  3 & 1 & 1064545506276315136 & 2025-02-25T10:54:59.000Z\\\\\n\t5 & 1894334816876675428 & 14 & 15 & 2 & 1552607512062459904 & 2025-02-25T10:33:10.000Z\\\\\n\t6 & 1894333158071357775 & 10 & 10 & 1 & 540523554           & 2025-02-25T10:26:34.000Z\\\\\n\t7 & 1894329343599333759 &  9 &  9 & 1 & 1731527040          & 2025-02-25T10:11:25.000Z\\\\\n\t8 & 1894329281481785786 &  8 &  8 & 1 & 1731527040          & 2025-02-25T10:11:10.000Z\\\\\n\t9 & 1894329154964709795 & 15 & 15 & 1 & 1731527040          & 2025-02-25T10:10:40.000Z\\\\\n\t10 & 1894319580006265071 & 39 & 45 & 2 & 1735241900024631296 & 2025-02-25T09:32:37.000Z\\\\\n\t11 & 1894308945931464806 &  6 &  6 & 1 & 1891838929348780032 & 2025-02-25T08:50:21.000Z\\\\\n\t12 & 1894290914287259748 &  9 & 12 & 4 & 1333526218336055298 & 2025-02-25T07:38:42.000Z\\\\\n\t13 & 1894290455380050195 & 12 & 15 & 1 & 1333526218336055298 & 2025-02-25T07:36:53.000Z\\\\\n\t14 & 1894289581719077111 & 10 & 10 & 1 & 2784624247          & 2025-02-25T07:33:25.000Z\\\\\n\t15 & 1894289268010369138 & 19 & 20 & 1 & 1333526218336055298 & 2025-02-25T07:32:10.000Z\\\\\n\t16 & 1894276540239618108 &  5 &  5 & 1 & 927066820376518656  & 2025-02-25T06:41:35.000Z\\\\\n\t17 & 1894275836800323756 &  5 &  5 & 1 & 1354899747744722948 & 2025-02-25T06:38:48.000Z\\\\\n\t18 & 1894267275688951948 & 17 & 18 & 1 & 108711505           & 2025-02-25T06:04:46.000Z\\\\\n\t19 & 1894267135679226030 & 12 & 12 & 1 & 108711505           & 2025-02-25T06:04:13.000Z\\\\\n\t20 & 1894244779753398526 & 46 & 54 & 3 & 2586507312          & 2025-02-25T04:35:23.000Z\\\\\n\t21 & 1894219193211289762 &  9 & 11 & 2 & 4310543445          & 2025-02-25T02:53:43.000Z\\\\\n\t22 & 1894197336038879302 &  4 &  4 & 1 & 1832343606520070144 & 2025-02-25T01:26:52.000Z\\\\\n\t23 & 1894188579355857019 &  9 &  9 & 2 & 1854536639487315978 & 2025-02-25T00:52:04.000Z\\\\\n\t24 & 1894172278163746880 & 14 & 15 & 1 & 980411452472389633  & 2025-02-24T23:47:17.000Z\\\\\n\t25 & 1894146171523776901 & 10 & 10 & 1 & 2597369920          & 2025-02-24T22:03:33.000Z\\\\\n\t26 & 1894138131512741966 & 15 & 15 & 1 & 1371763953722855424 & 2025-02-24T21:31:36.000Z\\\\\n\t27 & 1894137893771161990 & 18 & 19 & 2 & 1371763953722855424 & 2025-02-24T21:30:39.000Z\\\\\n\t28 & 1894137464110862637 & 22 & 23 & 2 & 1371763953722855424 & 2025-02-24T21:28:57.000Z\\\\\n\t29 & 1894133301948125648 & 11 & 12 & 1 & 168121103           & 2025-02-24T21:12:25.000Z\\\\\n\t30 & 1894114736280650020 &  6 &  7 & 1 & 1464921426155261952 & 2025-02-24T19:58:38.000Z\\\\\n\t⋮ & ⋮ & ⋮ & ⋮ & ⋮ & ⋮ & ⋮\\\\\n\t55 & 1894041710440694059 & 23 & 23 & 2 & 1612505889105186826 & 2025-02-24T15:08:28.000Z\\\\\n\t56 & 1894041263080362015 &  4 &  4 & 1 & 1297166764015525889 & 2025-02-24T15:06:41.000Z\\\\\n\t57 & 1894040744886763611 & 15 & 16 & 1 & 1612505889105186826 & 2025-02-24T15:04:37.000Z\\\\\n\t58 & 1894039534221832396 &  3 &  3 & 1 & 1541778550969323520 & 2025-02-24T14:59:49.000Z\\\\\n\t59 & 1894039283754819639 &  5 &  5 & 1 & 2251407549          & 2025-02-24T14:58:49.000Z\\\\\n\t60 & 1894036070167183373 & 22 & 23 & 1 & 3046980497          & 2025-02-24T14:46:03.000Z\\\\\n\t61 & 1894033578914128297 &  2 &  2 & 1 & 855070625681084417  & 2025-02-24T14:36:09.000Z\\\\\n\t62 & 1894033556772377035 & 16 & 22 & 2 & 774496845015941125  & 2025-02-24T14:36:04.000Z\\\\\n\t63 & 1894033018039283997 &  7 &  7 & 1 & 768296018685272064  & 2025-02-24T14:33:55.000Z\\\\\n\t64 & 1894032907548701124 &  8 &  8 & 1 & 768296018685272064  & 2025-02-24T14:33:29.000Z\\\\\n\t65 & 1894032146064449708 &  2 &  2 & 1 & 885117534944493568  & 2025-02-24T14:30:27.000Z\\\\\n\t66 & 1894032091316125922 &  3 &  3 & 1 & 885117534944493568  & 2025-02-24T14:30:14.000Z\\\\\n\t67 & 1894031853268406283 &  3 &  3 & 1 & 927066820376518656  & 2025-02-24T14:29:17.000Z\\\\\n\t68 & 1894031610225233989 &  6 &  6 & 1 & 3362277261          & 2025-02-24T14:28:19.000Z\\\\\n\t69 & 1894031246587494720 & 27 & 30 & 2 & 1788767463351402496 & 2025-02-24T14:26:53.000Z\\\\\n\t70 & 1894030889186648156 & 30 & 36 & 4 & 1636983616767926272 & 2025-02-24T14:25:28.000Z\\\\\n\t71 & 1894029726546571534 &  8 &  8 & 1 & 1638250900249624576 & 2025-02-24T14:20:50.000Z\\\\\n\t72 & 1894029265319948599 & 25 & 27 & 3 & 3405877781          & 2025-02-24T14:19:00.000Z\\\\\n\t73 & 1894028732525854826 & 16 & 24 & 1 & 1638250900249624576 & 2025-02-24T14:16:53.000Z\\\\\n\t74 & 1894028252810785024 &  3 &  3 & 1 & 428298771           & 2025-02-24T14:14:59.000Z\\\\\n\t75 & 1894028005061623833 & 14 & 15 & 1 & 4875776883          & 2025-02-24T14:14:00.000Z\\\\\n\t76 & 1894026452141543897 & 21 & 22 & 2 & 3405877781          & 2025-02-24T14:07:50.000Z\\\\\n\t77 & 1894026451713679687 & 18 & 18 & 1 & 1486972582838652933 & 2025-02-24T14:07:50.000Z\\\\\n\t78 & 1894025207083389422 & 19 & 26 & 2 & 1638250900249624576 & 2025-02-24T14:02:53.000Z\\\\\n\t79 & 1894025091567976748 &  2 &  2 & 1 & 1776203683618770944 & 2025-02-24T14:02:25.000Z\\\\\n\t80 & 1894024877587238983 &  8 &  8 & 1 & 1771376271785676800 & 2025-02-24T14:01:34.000Z\\\\\n\t81 & 1894024683193766264 &  9 &  9 & 1 & 1777333216296267776 & 2025-02-24T14:00:48.000Z\\\\\n\t82 & 1894024036511805671 & 10 & 13 & 2 & 1436601920760815621 & 2025-02-24T13:58:14.000Z\\\\\n\t83 & 1894023451632886001 &  3 &  3 & 1 & 1716900405941329920 & 2025-02-24T13:55:54.000Z\\\\\n\t84 & 1894022833551908966 &  8 &  8 & 1 & 872455297545236480  & 2025-02-24T13:53:27.000Z\\\\\n\\end{tabular}\n",
            "text/plain": [
              "   Text                Types Tokens Sentences author_id          \n",
              "1  1894420450970648686 14    14     1         1617370594064105472\n",
              "2  1894362710688595972 13    14     2         790486619694493697 \n",
              "3  1894340449642684731 15    16     1         1064545506276315136\n",
              "4  1894340310592786589  3     3     1         1064545506276315136\n",
              "5  1894334816876675428 14    15     2         1552607512062459904\n",
              "6  1894333158071357775 10    10     1         540523554          \n",
              "7  1894329343599333759  9     9     1         1731527040         \n",
              "8  1894329281481785786  8     8     1         1731527040         \n",
              "9  1894329154964709795 15    15     1         1731527040         \n",
              "10 1894319580006265071 39    45     2         1735241900024631296\n",
              "11 1894308945931464806  6     6     1         1891838929348780032\n",
              "12 1894290914287259748  9    12     4         1333526218336055298\n",
              "13 1894290455380050195 12    15     1         1333526218336055298\n",
              "14 1894289581719077111 10    10     1         2784624247         \n",
              "15 1894289268010369138 19    20     1         1333526218336055298\n",
              "16 1894276540239618108  5     5     1         927066820376518656 \n",
              "17 1894275836800323756  5     5     1         1354899747744722948\n",
              "18 1894267275688951948 17    18     1         108711505          \n",
              "19 1894267135679226030 12    12     1         108711505          \n",
              "20 1894244779753398526 46    54     3         2586507312         \n",
              "21 1894219193211289762  9    11     2         4310543445         \n",
              "22 1894197336038879302  4     4     1         1832343606520070144\n",
              "23 1894188579355857019  9     9     2         1854536639487315978\n",
              "24 1894172278163746880 14    15     1         980411452472389633 \n",
              "25 1894146171523776901 10    10     1         2597369920         \n",
              "26 1894138131512741966 15    15     1         1371763953722855424\n",
              "27 1894137893771161990 18    19     2         1371763953722855424\n",
              "28 1894137464110862637 22    23     2         1371763953722855424\n",
              "29 1894133301948125648 11    12     1         168121103          \n",
              "30 1894114736280650020  6     7     1         1464921426155261952\n",
              "⋮  ⋮                   ⋮     ⋮      ⋮         ⋮                  \n",
              "55 1894041710440694059 23    23     2         1612505889105186826\n",
              "56 1894041263080362015  4     4     1         1297166764015525889\n",
              "57 1894040744886763611 15    16     1         1612505889105186826\n",
              "58 1894039534221832396  3     3     1         1541778550969323520\n",
              "59 1894039283754819639  5     5     1         2251407549         \n",
              "60 1894036070167183373 22    23     1         3046980497         \n",
              "61 1894033578914128297  2     2     1         855070625681084417 \n",
              "62 1894033556772377035 16    22     2         774496845015941125 \n",
              "63 1894033018039283997  7     7     1         768296018685272064 \n",
              "64 1894032907548701124  8     8     1         768296018685272064 \n",
              "65 1894032146064449708  2     2     1         885117534944493568 \n",
              "66 1894032091316125922  3     3     1         885117534944493568 \n",
              "67 1894031853268406283  3     3     1         927066820376518656 \n",
              "68 1894031610225233989  6     6     1         3362277261         \n",
              "69 1894031246587494720 27    30     2         1788767463351402496\n",
              "70 1894030889186648156 30    36     4         1636983616767926272\n",
              "71 1894029726546571534  8     8     1         1638250900249624576\n",
              "72 1894029265319948599 25    27     3         3405877781         \n",
              "73 1894028732525854826 16    24     1         1638250900249624576\n",
              "74 1894028252810785024  3     3     1         428298771          \n",
              "75 1894028005061623833 14    15     1         4875776883         \n",
              "76 1894026452141543897 21    22     2         3405877781         \n",
              "77 1894026451713679687 18    18     1         1486972582838652933\n",
              "78 1894025207083389422 19    26     2         1638250900249624576\n",
              "79 1894025091567976748  2     2     1         1776203683618770944\n",
              "80 1894024877587238983  8     8     1         1771376271785676800\n",
              "81 1894024683193766264  9     9     1         1777333216296267776\n",
              "82 1894024036511805671 10    13     2         1436601920760815621\n",
              "83 1894023451632886001  3     3     1         1716900405941329920\n",
              "84 1894022833551908966  8     8     1         872455297545236480 \n",
              "   created_at              \n",
              "1  2025-02-25T16:13:26.000Z\n",
              "2  2025-02-25T12:24:00.000Z\n",
              "3  2025-02-25T10:55:32.000Z\n",
              "4  2025-02-25T10:54:59.000Z\n",
              "5  2025-02-25T10:33:10.000Z\n",
              "6  2025-02-25T10:26:34.000Z\n",
              "7  2025-02-25T10:11:25.000Z\n",
              "8  2025-02-25T10:11:10.000Z\n",
              "9  2025-02-25T10:10:40.000Z\n",
              "10 2025-02-25T09:32:37.000Z\n",
              "11 2025-02-25T08:50:21.000Z\n",
              "12 2025-02-25T07:38:42.000Z\n",
              "13 2025-02-25T07:36:53.000Z\n",
              "14 2025-02-25T07:33:25.000Z\n",
              "15 2025-02-25T07:32:10.000Z\n",
              "16 2025-02-25T06:41:35.000Z\n",
              "17 2025-02-25T06:38:48.000Z\n",
              "18 2025-02-25T06:04:46.000Z\n",
              "19 2025-02-25T06:04:13.000Z\n",
              "20 2025-02-25T04:35:23.000Z\n",
              "21 2025-02-25T02:53:43.000Z\n",
              "22 2025-02-25T01:26:52.000Z\n",
              "23 2025-02-25T00:52:04.000Z\n",
              "24 2025-02-24T23:47:17.000Z\n",
              "25 2025-02-24T22:03:33.000Z\n",
              "26 2025-02-24T21:31:36.000Z\n",
              "27 2025-02-24T21:30:39.000Z\n",
              "28 2025-02-24T21:28:57.000Z\n",
              "29 2025-02-24T21:12:25.000Z\n",
              "30 2025-02-24T19:58:38.000Z\n",
              "⋮  ⋮                       \n",
              "55 2025-02-24T15:08:28.000Z\n",
              "56 2025-02-24T15:06:41.000Z\n",
              "57 2025-02-24T15:04:37.000Z\n",
              "58 2025-02-24T14:59:49.000Z\n",
              "59 2025-02-24T14:58:49.000Z\n",
              "60 2025-02-24T14:46:03.000Z\n",
              "61 2025-02-24T14:36:09.000Z\n",
              "62 2025-02-24T14:36:04.000Z\n",
              "63 2025-02-24T14:33:55.000Z\n",
              "64 2025-02-24T14:33:29.000Z\n",
              "65 2025-02-24T14:30:27.000Z\n",
              "66 2025-02-24T14:30:14.000Z\n",
              "67 2025-02-24T14:29:17.000Z\n",
              "68 2025-02-24T14:28:19.000Z\n",
              "69 2025-02-24T14:26:53.000Z\n",
              "70 2025-02-24T14:25:28.000Z\n",
              "71 2025-02-24T14:20:50.000Z\n",
              "72 2025-02-24T14:19:00.000Z\n",
              "73 2025-02-24T14:16:53.000Z\n",
              "74 2025-02-24T14:14:59.000Z\n",
              "75 2025-02-24T14:14:00.000Z\n",
              "76 2025-02-24T14:07:50.000Z\n",
              "77 2025-02-24T14:07:50.000Z\n",
              "78 2025-02-24T14:02:53.000Z\n",
              "79 2025-02-24T14:02:25.000Z\n",
              "80 2025-02-24T14:01:34.000Z\n",
              "81 2025-02-24T14:00:48.000Z\n",
              "82 2025-02-24T13:58:14.000Z\n",
              "83 2025-02-24T13:55:54.000Z\n",
              "84 2025-02-24T13:53:27.000Z"
            ]
          },
          "metadata": {}
        }
      ]
    },
    {
      "cell_type": "code",
      "source": [
        "meduza_tweet_tokens <- tokens(meduza_tweet_corpus, remove_punct = T)\n",
        "print(meduza_tweet_tokens)"
      ],
      "metadata": {
        "colab": {
          "base_uri": "https://localhost:8080/",
          "height": 0
        },
        "id": "SpfbEyflRfxg",
        "outputId": "97445268-87a0-42bf-c314-d908f147883c"
      },
      "execution_count": 24,
      "outputs": [
        {
          "output_type": "stream",
          "name": "stdout",
          "text": [
            "Tokens consisting of 84 documents and 2 docvars.\n",
            "1894420450970648686 :\n",
            " [1] \"@meduzaproject\" \"Ну\"             \"так\"            \"потому\"        \n",
            " [5] \"что\"            \"это\"            \"не\"             \"вторжение\"     \n",
            " [9] \"а\"              \"защита\"         \"своих\"          \"новых\"         \n",
            "[ ... and 1 more ]\n",
            "\n",
            "1894362710688595972 :\n",
            " [1] \"@meduzaproject\" \"Этот\"           \"таймлайн\"       \"слишком\"       \n",
            " [5] \"резко\"          \"изменился\"      \"Я\"              \"к\"             \n",
            " [9] \"такому\"         \"не\"             \"был\"            \"готов\"         \n",
            "\n",
            "1894340449642684731 :\n",
            " [1] \"@varooleg71\"    \"@meduzaproject\" \"Они\"            \"именно\"        \n",
            " [5] \"что\"            \"полицейские\"    \"такие\"          \"же\"            \n",
            " [9] \"как\"            \"российские\"     \"зазишают\"       \"сволочей\"      \n",
            "\n",
            "1894340310592786589 :\n",
            "[1] \"@meduzaproject\" \"Бляди\"         \n",
            "\n",
            "1894334816876675428 :\n",
            " [1] \"@Papa0278528197\" \"@meduzaproject\"  \"Животное\"        \"вы\"             \n",
            " [5] \"вобще\"           \"никто\"           \"Хохла\"           \"забыли\"         \n",
            " [9] \"спросить\"        \"как\"             \"делить\"          \"ресурсы\"        \n",
            "\n",
            "1894333158071357775 :\n",
            " [1] \"@meduzaproject\"         \"Сейчас\"                 \"реплаи\"                \n",
            " [4] \"полетят\"                \"картинки\"               \"рисованные\"            \n",
            " [7] \"уркаинскими\"            \"самозанятыми\"           \"художниками-сатириками\"\n",
            "[10] \"😄\"                    \n",
            "\n",
            "[ reached max_ndoc ... 78 more documents ]\n"
          ]
        }
      ]
    },
    {
      "cell_type": "code",
      "source": [
        "# create a tokens object\n",
        "meduza_tweet_tokens <- tokens(meduza_tweet_tokens,\n",
        "    remove_punct=T,\n",
        "    remove_numbers=T,\n",
        "    remove_symbols=T)\n",
        "\n",
        "meduza_tweet_tokens <- tokens_remove(meduza_tweet_tokens, stopwords(\"russian\"))\n",
        "\n",
        "meduza_tweet_tokens <- tokens_remove(meduza_tweet_tokens, pattern = \"^@\\\\w+\", valuetype = \"regex\")\n",
        "\n",
        "\n",
        "meduza_dfm <- dfm(meduza_tweet_tokens)\n",
        "\n",
        "# find out a quick summary of the dfm\n",
        "meduza_dfm"
      ],
      "metadata": {
        "colab": {
          "base_uri": "https://localhost:8080/",
          "height": 338
        },
        "id": "1nuCXgrmSGL-",
        "outputId": "e3a597ce-8bec-4b0d-d352-3a48a2f04503"
      },
      "execution_count": 32,
      "outputs": [
        {
          "output_type": "display_data",
          "data": {
            "text/plain": [
              "Document-feature matrix of: 84 documents, 462 features (98.63% sparse) and 2 docvars.\n",
              "                     features\n",
              "docs                  это вторжение защита своих новых территорий таймлайн\n",
              "  1894420450970648686   1         1      1     1     1          1        0\n",
              "  1894362710688595972   0         0      0     0     0          0        1\n",
              "  1894340449642684731   0         0      0     0     0          0        0\n",
              "  1894340310592786589   0         0      0     0     0          0        0\n",
              "  1894334816876675428   0         0      0     0     0          0        0\n",
              "  1894333158071357775   0         0      0     0     0          0        0\n",
              "                     features\n",
              "docs                  слишком резко изменился\n",
              "  1894420450970648686       0     0         0\n",
              "  1894362710688595972       1     1         1\n",
              "  1894340449642684731       0     0         0\n",
              "  1894340310592786589       0     0         0\n",
              "  1894334816876675428       0     0         0\n",
              "  1894333158071357775       0     0         0\n",
              "[ reached max_ndoc ... 78 more documents, reached max_nfeat ... 452 more features ]"
            ]
          },
          "metadata": {}
        }
      ]
    },
    {
      "cell_type": "code",
      "source": [
        "set.seed(12345)\n",
        "\n",
        "textplot_wordcloud(meduza_dfm, min_count = 4, random_order = FALSE)"
      ],
      "metadata": {
        "colab": {
          "base_uri": "https://localhost:8080/",
          "height": 437
        },
        "id": "3358X93jSW8C",
        "outputId": "39aceb5f-48ed-45a3-dbf9-7cac28f28014"
      },
      "execution_count": 37,
      "outputs": [
        {
          "output_type": "display_data",
          "data": {
            "text/plain": [
              "plot without title"
            ],
            "image/png": "[encoded data removed]"
          },
          "metadata": {
            "image/png": {
              "width": 420,
              "height": 420
            }
          }
        }
      ]
    }
  ],
  "metadata": {
    "kernelspec": {
      "display_name": "R",
      "name": "ir"
    },
    "language_info": {
      "name": "R"
    },
    "colab": {
      "provenance": []
    }
  },
  "nbformat": 4,
  "nbformat_minor": 0
}